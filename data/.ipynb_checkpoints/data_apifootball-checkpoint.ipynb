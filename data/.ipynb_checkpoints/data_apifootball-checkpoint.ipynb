{
 "cells": [
  {
   "cell_type": "code",
   "execution_count": 8,
   "id": "39e1d52f-cfa3-4368-9836-d439dcfa25dd",
   "metadata": {},
   "outputs": [],
   "source": [
    "import http.client\n",
    "import pandas as pd\n",
    "import re"
   ]
  },
  {
   "cell_type": "code",
   "execution_count": 2,
   "id": "968b877e-60ed-490b-9ecc-0a7599ec5506",
   "metadata": {
    "scrolled": true
   },
   "outputs": [],
   "source": [
    "conn = http.client.HTTPSConnection(\"v3.football.api-sports.io\")\n",
    "\n",
    "headers = {\n",
    "    'x-rapidapi-host': \"v3.football.api-sports.io\",\n",
    "    'x-rapidapi-key': \"17c809bff12884671da8c9914eb64548\"\n",
    "    }"
   ]
  },
  {
   "cell_type": "code",
   "execution_count": 14,
   "id": "1a93ae76",
   "metadata": {},
   "outputs": [
    {
     "name": "stdout",
     "output_type": "stream",
     "text": [
      "{\"get\":\"fixtures\",\"parameters\":{\"league\":\"2\",\"season\":\"2015\",\"status\":\"PEN\"},\"errors\":[],\"results\":1,\"paging\":{\"current\":1,\"total\":1},\"response\":[{\"fixture\":{\"id\":354980,\"referee\":\"Mark Clattenburg, England\",\"timezone\":\"UTC\",\"date\":\"2016-03-15T19:45:00+00:00\",\"timestamp\":1458071100,\"periods\":{\"first\":1458071100,\"second\":1458074700},\"venue\":{\"id\":null,\"name\":\"Estadio Vicente Calder\\u00f3n\",\"city\":\"Madrid\"},\"status\":{\"long\":\"Match Finished\",\"short\":\"PEN\",\"elapsed\":120}},\"league\":{\"id\":2,\"name\":\"UEFA Champions League\",\"country\":\"World\",\"logo\":\"https:\\/\\/media.api-sports.io\\/football\\/leagues\\/2.png\",\"flag\":null,\"season\":2015,\"round\":\"8th Finals\"},\"teams\":{\"home\":{\"id\":530,\"name\":\"Atletico Madrid\",\"logo\":\"https:\\/\\/media.api-sports.io\\/football\\/teams\\/530.png\",\"winner\":true},\"away\":{\"id\":197,\"name\":\"PSV Eindhoven\",\"logo\":\"https:\\/\\/media.api-sports.io\\/football\\/teams\\/197.png\",\"winner\":false}},\"goals\":{\"home\":0,\"away\":0},\"score\":{\"halftime\":{\"home\":0,\"away\":0},\"fulltime\":{\"home\":0,\"away\":0},\"extratime\":{\"home\":0,\"away\":0},\"penalty\":{\"home\":8,\"away\":7}}}]}\n"
     ]
    }
   ],
   "source": [
    "# League 2 is UCL\n",
    "conn.request(\"GET\", \"/fixtures?league=2&season=2015&status=PEN\", headers=headers)\n",
    "\n",
    "res = conn.getresponse()\n",
    "data = res.read()\n",
    "\n",
    "print(data.decode(\"utf-8\"))"
   ]
  },
  {
   "cell_type": "code",
   "execution_count": 15,
   "id": "53869c79-33ac-4b90-96e9-e81a51abe26b",
   "metadata": {},
   "outputs": [
    {
     "name": "stdout",
     "output_type": "stream",
     "text": [
      "{\"get\":\"fixtures\",\"parameters\":{\"league\":\"2\",\"season\":\"2015\",\"round\":\"final\"},\"errors\":[],\"results\":1,\"paging\":{\"current\":1,\"total\":1},\"response\":[{\"fixture\":{\"id\":354954,\"referee\":\"Mark Clattenburg, England\",\"timezone\":\"UTC\",\"date\":\"2016-05-28T18:45:00+00:00\",\"timestamp\":1464461100,\"periods\":{\"first\":1464461100,\"second\":1464464700},\"venue\":{\"id\":null,\"name\":\"Stadio Giuseppe Meazza\",\"city\":\"Milano\"},\"status\":{\"long\":\"Match Finished\",\"short\":\"FT\",\"elapsed\":90}},\"league\":{\"id\":2,\"name\":\"UEFA Champions League\",\"country\":\"World\",\"logo\":\"https:\\/\\/media.api-sports.io\\/football\\/leagues\\/2.png\",\"flag\":null,\"season\":2015,\"round\":\"Final\"},\"teams\":{\"home\":{\"id\":541,\"name\":\"Real Madrid\",\"logo\":\"https:\\/\\/media.api-sports.io\\/football\\/teams\\/541.png\",\"winner\":true},\"away\":{\"id\":530,\"name\":\"Atletico Madrid\",\"logo\":\"https:\\/\\/media.api-sports.io\\/football\\/teams\\/530.png\",\"winner\":false}},\"goals\":{\"home\":1,\"away\":1},\"score\":{\"halftime\":{\"home\":1,\"away\":0},\"fulltime\":{\"home\":1,\"away\":1},\"extratime\":{\"home\":0,\"away\":0},\"penalty\":{\"home\":5,\"away\":3}}}]}\n"
     ]
    }
   ],
   "source": [
    "conn.request(\"GET\", \"/fixtures?league=2&season=2015&round=final\", headers=headers)\n",
    "# This one should show up as PEN but it doesn't idk why, I'll email them about it\n",
    "res = conn.getresponse()\n",
    "data = res.read()\n",
    "\n",
    "print(data.decode(\"utf-8\"))"
   ]
  },
  {
   "cell_type": "code",
   "execution_count": 16,
   "id": "669d456e-1098-4f66-83fd-4c33ec714de6",
   "metadata": {},
   "outputs": [
    {
     "name": "stdout",
     "output_type": "stream",
     "text": [
      "{\"get\":\"fixtures\\/events\",\"parameters\":{\"fixture\":\"354954\"},\"errors\":[],\"results\":16,\"paging\":{\"current\":1,\"total\":1},\"response\":[{\"time\":{\"elapsed\":11,\"extra\":null},\"team\":{\"id\":541,\"name\":\"Real Madrid\",\"logo\":\"https:\\/\\/media.api-sports.io\\/football\\/teams\\/541.png\"},\"player\":{\"id\":733,\"name\":\"Daniel Carvajal\"},\"assist\":{\"id\":null,\"name\":null},\"type\":\"Card\",\"detail\":\"Yellow Card\",\"comments\":null},{\"time\":{\"elapsed\":15,\"extra\":null},\"team\":{\"id\":541,\"name\":\"Real Madrid\",\"logo\":\"https:\\/\\/media.api-sports.io\\/football\\/teams\\/541.png\"},\"player\":{\"id\":738,\"name\":\"Sergio Ramos\"},\"assist\":{\"id\":758,\"name\":\"G. Bale\"},\"type\":\"Goal\",\"detail\":\"Normal Goal\",\"comments\":null},{\"time\":{\"elapsed\":46,\"extra\":null},\"team\":{\"id\":530,\"name\":\"Atletico Madrid\",\"logo\":\"https:\\/\\/media.api-sports.io\\/football\\/teams\\/530.png\"},\"player\":{\"id\":13114,\"name\":\"A. Fern\\u00e1ndez\"},\"assist\":{\"id\":2923,\"name\":\"Y. Carrasco\"},\"type\":\"subst\",\"detail\":\"Substitution 1\",\"comments\":null},{\"time\":{\"elapsed\":47,\"extra\":null},\"team\":{\"id\":541,\"name\":\"Real Madrid\",\"logo\":\"https:\\/\\/media.api-sports.io\\/football\\/teams\\/541.png\"},\"player\":{\"id\":731,\"name\":\"Keylor Navas\"},\"assist\":{\"id\":null,\"name\":null},\"type\":\"Card\",\"detail\":\"Yellow Card\",\"comments\":null},{\"time\":{\"elapsed\":52,\"extra\":null},\"team\":{\"id\":541,\"name\":\"Real Madrid\",\"logo\":\"https:\\/\\/media.api-sports.io\\/football\\/teams\\/541.png\"},\"player\":{\"id\":733,\"name\":\"Daniel Carvajal\"},\"assist\":{\"id\":618,\"name\":\"Danilo\"},\"type\":\"subst\",\"detail\":\"Substitution 1\",\"comments\":null},{\"time\":{\"elapsed\":61,\"extra\":null},\"team\":{\"id\":530,\"name\":\"Atletico Madrid\",\"logo\":\"https:\\/\\/media.api-sports.io\\/football\\/teams\\/530.png\"},\"player\":{\"id\":33413,\"name\":\"Fernando Torres\"},\"assist\":{\"id\":null,\"name\":null},\"type\":\"Card\",\"detail\":\"Yellow Card\",\"comments\":null},{\"time\":{\"elapsed\":72,\"extra\":null},\"team\":{\"id\":541,\"name\":\"Real Madrid\",\"logo\":\"https:\\/\\/media.api-sports.io\\/football\\/teams\\/541.png\"},\"player\":{\"id\":752,\"name\":\"T. Kroos\"},\"assist\":{\"id\":745,\"name\":\"Isco\"},\"type\":\"subst\",\"detail\":\"Substitution 2\",\"comments\":null},{\"time\":{\"elapsed\":77,\"extra\":null},\"team\":{\"id\":541,\"name\":\"Real Madrid\",\"logo\":\"https:\\/\\/media.api-sports.io\\/football\\/teams\\/541.png\"},\"player\":{\"id\":759,\"name\":\"K. Benzema\"},\"assist\":{\"id\":757,\"name\":\"Lucas V\\u00e1zquez\"},\"type\":\"subst\",\"detail\":\"Substitution 3\",\"comments\":null},{\"time\":{\"elapsed\":79,\"extra\":null},\"team\":{\"id\":541,\"name\":\"Real Madrid\",\"logo\":\"https:\\/\\/media.api-sports.io\\/football\\/teams\\/541.png\"},\"player\":{\"id\":747,\"name\":\"Casemiro\"},\"assist\":{\"id\":null,\"name\":null},\"type\":\"Card\",\"detail\":\"Yellow Card\",\"comments\":null},{\"time\":{\"elapsed\":79,\"extra\":null},\"team\":{\"id\":530,\"name\":\"Atletico Madrid\",\"logo\":\"https:\\/\\/media.api-sports.io\\/football\\/teams\\/530.png\"},\"player\":{\"id\":2923,\"name\":\"Y. Carrasco\"},\"assist\":{\"id\":41,\"name\":\"Juanfran\"},\"type\":\"Goal\",\"detail\":\"Normal Goal\",\"comments\":null},{\"time\":{\"elapsed\":90,\"extra\":null},\"team\":{\"id\":541,\"name\":\"Real Madrid\",\"logo\":\"https:\\/\\/media.api-sports.io\\/football\\/teams\\/541.png\"},\"player\":{\"id\":738,\"name\":\"Sergio Ramos\"},\"assist\":{\"id\":null,\"name\":null},\"type\":\"Card\",\"detail\":\"Yellow Card\",\"comments\":null},{\"time\":{\"elapsed\":90,\"extra\":null},\"team\":{\"id\":530,\"name\":\"Atletico Madrid\",\"logo\":\"https:\\/\\/media.api-sports.io\\/football\\/teams\\/530.png\"},\"player\":{\"id\":42039,\"name\":\"Gabi\"},\"assist\":{\"id\":null,\"name\":null},\"type\":\"Card\",\"detail\":\"Yellow Card\",\"comments\":null},{\"time\":{\"elapsed\":93,\"extra\":null},\"team\":{\"id\":541,\"name\":\"Real Madrid\",\"logo\":\"https:\\/\\/media.api-sports.io\\/football\\/teams\\/541.png\"},\"player\":{\"id\":618,\"name\":\"Danilo\"},\"assist\":{\"id\":null,\"name\":null},\"type\":\"Card\",\"detail\":\"Yellow Card\",\"comments\":null},{\"time\":{\"elapsed\":109,\"extra\":null},\"team\":{\"id\":530,\"name\":\"Atletico Madrid\",\"logo\":\"https:\\/\\/media.api-sports.io\\/football\\/teams\\/530.png\"},\"player\":{\"id\":34,\"name\":\"Filipe Luis\"},\"assist\":{\"id\":33,\"name\":\"L. Hern\\u00e1ndez\"},\"type\":\"subst\",\"detail\":\"Substitution 2\",\"comments\":null},{\"time\":{\"elapsed\":112,\"extra\":null},\"team\":{\"id\":541,\"name\":\"Real Madrid\",\"logo\":\"https:\\/\\/media.api-sports.io\\/football\\/teams\\/541.png\"},\"player\":{\"id\":373,\"name\":\"Pepe\"},\"assist\":{\"id\":null,\"name\":null},\"type\":\"Card\",\"detail\":\"Yellow Card\",\"comments\":null},{\"time\":{\"elapsed\":116,\"extra\":null},\"team\":{\"id\":530,\"name\":\"Atletico Madrid\",\"logo\":\"https:\\/\\/media.api-sports.io\\/football\\/teams\\/530.png\"},\"player\":{\"id\":50,\"name\":\"Koke\"},\"assist\":{\"id\":49,\"name\":\"T. Partey\"},\"type\":\"subst\",\"detail\":\"Substitution 3\",\"comments\":null}]}\n"
     ]
    }
   ],
   "source": [
    "conn.request(\"GET\", \"/fixtures/events?fixture=354954\", headers=headers)\n",
    "# This one is the last game, the UCL 2016 final\n",
    "res = conn.getresponse()\n",
    "data = res.read()\n",
    "\n",
    "print(data.decode(\"utf-8\"))"
   ]
  },
  {
   "cell_type": "code",
   "execution_count": 27,
   "id": "db88253a-c3f5-4f67-a9fd-7259b9736042",
   "metadata": {},
   "outputs": [
    {
     "data": {
      "text/html": [
       "<div>\n",
       "<style scoped>\n",
       "    .dataframe tbody tr th:only-of-type {\n",
       "        vertical-align: middle;\n",
       "    }\n",
       "\n",
       "    .dataframe tbody tr th {\n",
       "        vertical-align: top;\n",
       "    }\n",
       "\n",
       "    .dataframe thead th {\n",
       "        text-align: right;\n",
       "    }\n",
       "</style>\n",
       "<table border=\"1\" class=\"dataframe\">\n",
       "  <thead>\n",
       "    <tr style=\"text-align: right;\">\n",
       "      <th></th>\n",
       "      <th>time</th>\n",
       "      <th>team</th>\n",
       "      <th>player</th>\n",
       "      <th>assist</th>\n",
       "      <th>type</th>\n",
       "      <th>detail</th>\n",
       "      <th>comments</th>\n",
       "    </tr>\n",
       "  </thead>\n",
       "  <tbody>\n",
       "    <tr>\n",
       "      <th>0</th>\n",
       "      <td>{'elapsed': 11, 'extra': None}</td>\n",
       "      <td>{'id': 541, 'name': 'Real Madrid', 'logo': 'ht...</td>\n",
       "      <td>{'id': 733, 'name': 'Daniel Carvajal'}</td>\n",
       "      <td>{'id': None, 'name': None}</td>\n",
       "      <td>Card</td>\n",
       "      <td>Yellow Card</td>\n",
       "      <td>NaN</td>\n",
       "    </tr>\n",
       "    <tr>\n",
       "      <th>1</th>\n",
       "      <td>{'elapsed': 15, 'extra': None}</td>\n",
       "      <td>{'id': 541, 'name': 'Real Madrid', 'logo': 'ht...</td>\n",
       "      <td>{'id': 738, 'name': 'Sergio Ramos'}</td>\n",
       "      <td>{'id': 758, 'name': 'G. Bale'}</td>\n",
       "      <td>Goal</td>\n",
       "      <td>Normal Goal</td>\n",
       "      <td>NaN</td>\n",
       "    </tr>\n",
       "    <tr>\n",
       "      <th>2</th>\n",
       "      <td>{'elapsed': 46, 'extra': None}</td>\n",
       "      <td>{'id': 530, 'name': 'Atletico Madrid', 'logo':...</td>\n",
       "      <td>{'id': 13114, 'name': 'A. Fern\\u00e1ndez'}</td>\n",
       "      <td>{'id': 2923, 'name': 'Y. Carrasco'}</td>\n",
       "      <td>subst</td>\n",
       "      <td>Substitution 1</td>\n",
       "      <td>NaN</td>\n",
       "    </tr>\n",
       "    <tr>\n",
       "      <th>3</th>\n",
       "      <td>{'elapsed': 47, 'extra': None}</td>\n",
       "      <td>{'id': 541, 'name': 'Real Madrid', 'logo': 'ht...</td>\n",
       "      <td>{'id': 731, 'name': 'Keylor Navas'}</td>\n",
       "      <td>{'id': None, 'name': None}</td>\n",
       "      <td>Card</td>\n",
       "      <td>Yellow Card</td>\n",
       "      <td>NaN</td>\n",
       "    </tr>\n",
       "    <tr>\n",
       "      <th>4</th>\n",
       "      <td>{'elapsed': 52, 'extra': None}</td>\n",
       "      <td>{'id': 541, 'name': 'Real Madrid', 'logo': 'ht...</td>\n",
       "      <td>{'id': 733, 'name': 'Daniel Carvajal'}</td>\n",
       "      <td>{'id': 618, 'name': 'Danilo'}</td>\n",
       "      <td>subst</td>\n",
       "      <td>Substitution 1</td>\n",
       "      <td>NaN</td>\n",
       "    </tr>\n",
       "    <tr>\n",
       "      <th>5</th>\n",
       "      <td>{'elapsed': 61, 'extra': None}</td>\n",
       "      <td>{'id': 530, 'name': 'Atletico Madrid', 'logo':...</td>\n",
       "      <td>{'id': 33413, 'name': 'Fernando Torres'}</td>\n",
       "      <td>{'id': None, 'name': None}</td>\n",
       "      <td>Card</td>\n",
       "      <td>Yellow Card</td>\n",
       "      <td>NaN</td>\n",
       "    </tr>\n",
       "    <tr>\n",
       "      <th>6</th>\n",
       "      <td>{'elapsed': 72, 'extra': None}</td>\n",
       "      <td>{'id': 541, 'name': 'Real Madrid', 'logo': 'ht...</td>\n",
       "      <td>{'id': 752, 'name': 'T. Kroos'}</td>\n",
       "      <td>{'id': 745, 'name': 'Isco'}</td>\n",
       "      <td>subst</td>\n",
       "      <td>Substitution 2</td>\n",
       "      <td>NaN</td>\n",
       "    </tr>\n",
       "    <tr>\n",
       "      <th>7</th>\n",
       "      <td>{'elapsed': 77, 'extra': None}</td>\n",
       "      <td>{'id': 541, 'name': 'Real Madrid', 'logo': 'ht...</td>\n",
       "      <td>{'id': 759, 'name': 'K. Benzema'}</td>\n",
       "      <td>{'id': 757, 'name': 'Lucas V\\u00e1zquez'}</td>\n",
       "      <td>subst</td>\n",
       "      <td>Substitution 3</td>\n",
       "      <td>NaN</td>\n",
       "    </tr>\n",
       "    <tr>\n",
       "      <th>8</th>\n",
       "      <td>{'elapsed': 79, 'extra': None}</td>\n",
       "      <td>{'id': 541, 'name': 'Real Madrid', 'logo': 'ht...</td>\n",
       "      <td>{'id': 747, 'name': 'Casemiro'}</td>\n",
       "      <td>{'id': None, 'name': None}</td>\n",
       "      <td>Card</td>\n",
       "      <td>Yellow Card</td>\n",
       "      <td>NaN</td>\n",
       "    </tr>\n",
       "    <tr>\n",
       "      <th>9</th>\n",
       "      <td>{'elapsed': 79, 'extra': None}</td>\n",
       "      <td>{'id': 530, 'name': 'Atletico Madrid', 'logo':...</td>\n",
       "      <td>{'id': 2923, 'name': 'Y. Carrasco'}</td>\n",
       "      <td>{'id': 41, 'name': 'Juanfran'}</td>\n",
       "      <td>Goal</td>\n",
       "      <td>Normal Goal</td>\n",
       "      <td>NaN</td>\n",
       "    </tr>\n",
       "    <tr>\n",
       "      <th>10</th>\n",
       "      <td>{'elapsed': 90, 'extra': None}</td>\n",
       "      <td>{'id': 541, 'name': 'Real Madrid', 'logo': 'ht...</td>\n",
       "      <td>{'id': 738, 'name': 'Sergio Ramos'}</td>\n",
       "      <td>{'id': None, 'name': None}</td>\n",
       "      <td>Card</td>\n",
       "      <td>Yellow Card</td>\n",
       "      <td>NaN</td>\n",
       "    </tr>\n",
       "    <tr>\n",
       "      <th>11</th>\n",
       "      <td>{'elapsed': 90, 'extra': None}</td>\n",
       "      <td>{'id': 530, 'name': 'Atletico Madrid', 'logo':...</td>\n",
       "      <td>{'id': 42039, 'name': 'Gabi'}</td>\n",
       "      <td>{'id': None, 'name': None}</td>\n",
       "      <td>Card</td>\n",
       "      <td>Yellow Card</td>\n",
       "      <td>NaN</td>\n",
       "    </tr>\n",
       "    <tr>\n",
       "      <th>12</th>\n",
       "      <td>{'elapsed': 93, 'extra': None}</td>\n",
       "      <td>{'id': 541, 'name': 'Real Madrid', 'logo': 'ht...</td>\n",
       "      <td>{'id': 618, 'name': 'Danilo'}</td>\n",
       "      <td>{'id': None, 'name': None}</td>\n",
       "      <td>Card</td>\n",
       "      <td>Yellow Card</td>\n",
       "      <td>NaN</td>\n",
       "    </tr>\n",
       "    <tr>\n",
       "      <th>13</th>\n",
       "      <td>{'elapsed': 109, 'extra': None}</td>\n",
       "      <td>{'id': 530, 'name': 'Atletico Madrid', 'logo':...</td>\n",
       "      <td>{'id': 34, 'name': 'Filipe Luis'}</td>\n",
       "      <td>{'id': 33, 'name': 'L. Hern\\u00e1ndez'}</td>\n",
       "      <td>subst</td>\n",
       "      <td>Substitution 2</td>\n",
       "      <td>NaN</td>\n",
       "    </tr>\n",
       "    <tr>\n",
       "      <th>14</th>\n",
       "      <td>{'elapsed': 112, 'extra': None}</td>\n",
       "      <td>{'id': 541, 'name': 'Real Madrid', 'logo': 'ht...</td>\n",
       "      <td>{'id': 373, 'name': 'Pepe'}</td>\n",
       "      <td>{'id': None, 'name': None}</td>\n",
       "      <td>Card</td>\n",
       "      <td>Yellow Card</td>\n",
       "      <td>NaN</td>\n",
       "    </tr>\n",
       "    <tr>\n",
       "      <th>15</th>\n",
       "      <td>{'elapsed': 116, 'extra': None}</td>\n",
       "      <td>{'id': 530, 'name': 'Atletico Madrid', 'logo':...</td>\n",
       "      <td>{'id': 50, 'name': 'Koke'}</td>\n",
       "      <td>{'id': 49, 'name': 'T. Partey'}</td>\n",
       "      <td>subst</td>\n",
       "      <td>Substitution 3</td>\n",
       "      <td>NaN</td>\n",
       "    </tr>\n",
       "  </tbody>\n",
       "</table>\n",
       "</div>"
      ],
      "text/plain": [
       "                               time  \\\n",
       "0    {'elapsed': 11, 'extra': None}   \n",
       "1    {'elapsed': 15, 'extra': None}   \n",
       "2    {'elapsed': 46, 'extra': None}   \n",
       "3    {'elapsed': 47, 'extra': None}   \n",
       "4    {'elapsed': 52, 'extra': None}   \n",
       "5    {'elapsed': 61, 'extra': None}   \n",
       "6    {'elapsed': 72, 'extra': None}   \n",
       "7    {'elapsed': 77, 'extra': None}   \n",
       "8    {'elapsed': 79, 'extra': None}   \n",
       "9    {'elapsed': 79, 'extra': None}   \n",
       "10   {'elapsed': 90, 'extra': None}   \n",
       "11   {'elapsed': 90, 'extra': None}   \n",
       "12   {'elapsed': 93, 'extra': None}   \n",
       "13  {'elapsed': 109, 'extra': None}   \n",
       "14  {'elapsed': 112, 'extra': None}   \n",
       "15  {'elapsed': 116, 'extra': None}   \n",
       "\n",
       "                                                 team  \\\n",
       "0   {'id': 541, 'name': 'Real Madrid', 'logo': 'ht...   \n",
       "1   {'id': 541, 'name': 'Real Madrid', 'logo': 'ht...   \n",
       "2   {'id': 530, 'name': 'Atletico Madrid', 'logo':...   \n",
       "3   {'id': 541, 'name': 'Real Madrid', 'logo': 'ht...   \n",
       "4   {'id': 541, 'name': 'Real Madrid', 'logo': 'ht...   \n",
       "5   {'id': 530, 'name': 'Atletico Madrid', 'logo':...   \n",
       "6   {'id': 541, 'name': 'Real Madrid', 'logo': 'ht...   \n",
       "7   {'id': 541, 'name': 'Real Madrid', 'logo': 'ht...   \n",
       "8   {'id': 541, 'name': 'Real Madrid', 'logo': 'ht...   \n",
       "9   {'id': 530, 'name': 'Atletico Madrid', 'logo':...   \n",
       "10  {'id': 541, 'name': 'Real Madrid', 'logo': 'ht...   \n",
       "11  {'id': 530, 'name': 'Atletico Madrid', 'logo':...   \n",
       "12  {'id': 541, 'name': 'Real Madrid', 'logo': 'ht...   \n",
       "13  {'id': 530, 'name': 'Atletico Madrid', 'logo':...   \n",
       "14  {'id': 541, 'name': 'Real Madrid', 'logo': 'ht...   \n",
       "15  {'id': 530, 'name': 'Atletico Madrid', 'logo':...   \n",
       "\n",
       "                                        player  \\\n",
       "0       {'id': 733, 'name': 'Daniel Carvajal'}   \n",
       "1          {'id': 738, 'name': 'Sergio Ramos'}   \n",
       "2   {'id': 13114, 'name': 'A. Fern\\u00e1ndez'}   \n",
       "3          {'id': 731, 'name': 'Keylor Navas'}   \n",
       "4       {'id': 733, 'name': 'Daniel Carvajal'}   \n",
       "5     {'id': 33413, 'name': 'Fernando Torres'}   \n",
       "6              {'id': 752, 'name': 'T. Kroos'}   \n",
       "7            {'id': 759, 'name': 'K. Benzema'}   \n",
       "8              {'id': 747, 'name': 'Casemiro'}   \n",
       "9          {'id': 2923, 'name': 'Y. Carrasco'}   \n",
       "10         {'id': 738, 'name': 'Sergio Ramos'}   \n",
       "11               {'id': 42039, 'name': 'Gabi'}   \n",
       "12               {'id': 618, 'name': 'Danilo'}   \n",
       "13           {'id': 34, 'name': 'Filipe Luis'}   \n",
       "14                 {'id': 373, 'name': 'Pepe'}   \n",
       "15                  {'id': 50, 'name': 'Koke'}   \n",
       "\n",
       "                                       assist   type          detail  comments  \n",
       "0                  {'id': None, 'name': None}   Card     Yellow Card       NaN  \n",
       "1              {'id': 758, 'name': 'G. Bale'}   Goal     Normal Goal       NaN  \n",
       "2         {'id': 2923, 'name': 'Y. Carrasco'}  subst  Substitution 1       NaN  \n",
       "3                  {'id': None, 'name': None}   Card     Yellow Card       NaN  \n",
       "4               {'id': 618, 'name': 'Danilo'}  subst  Substitution 1       NaN  \n",
       "5                  {'id': None, 'name': None}   Card     Yellow Card       NaN  \n",
       "6                 {'id': 745, 'name': 'Isco'}  subst  Substitution 2       NaN  \n",
       "7   {'id': 757, 'name': 'Lucas V\\u00e1zquez'}  subst  Substitution 3       NaN  \n",
       "8                  {'id': None, 'name': None}   Card     Yellow Card       NaN  \n",
       "9              {'id': 41, 'name': 'Juanfran'}   Goal     Normal Goal       NaN  \n",
       "10                 {'id': None, 'name': None}   Card     Yellow Card       NaN  \n",
       "11                 {'id': None, 'name': None}   Card     Yellow Card       NaN  \n",
       "12                 {'id': None, 'name': None}   Card     Yellow Card       NaN  \n",
       "13    {'id': 33, 'name': 'L. Hern\\u00e1ndez'}  subst  Substitution 2       NaN  \n",
       "14                 {'id': None, 'name': None}   Card     Yellow Card       NaN  \n",
       "15            {'id': 49, 'name': 'T. Partey'}  subst  Substitution 3       NaN  "
      ]
     },
     "execution_count": 27,
     "metadata": {},
     "output_type": "execute_result"
    }
   ],
   "source": [
    "pd.read_json('2016uclfinal.json')\n",
    "# This is the text from the 2016 ucl final that I manually parsed"
   ]
  },
  {
   "cell_type": "code",
   "execution_count": 17,
   "id": "478c0381-751c-4741-8808-1fbfabb559cf",
   "metadata": {},
   "outputs": [
    {
     "name": "stdout",
     "output_type": "stream",
     "text": [
      "{\"get\":\"fixtures\",\"parameters\":{\"league\":\"4\",\"season\":\"2012\",\"status\":\"pen\"},\"errors\":[],\"results\":2,\"paging\":{\"current\":1,\"total\":1},\"response\":[{\"fixture\":{\"id\":208444,\"referee\":null,\"timezone\":\"UTC\",\"date\":\"2012-06-24T18:45:00+00:00\",\"timestamp\":1340563500,\"periods\":{\"first\":1340563500,\"second\":1340567100},\"venue\":{\"id\":null,\"name\":\"NSK Olimpijs'kyj (Kyiv (Kiev))\",\"city\":null},\"status\":{\"long\":\"Match Finished\",\"short\":\"PEN\",\"elapsed\":120}},\"league\":{\"id\":4,\"name\":\"Euro Championship\",\"country\":\"World\",\"logo\":\"https:\\/\\/media.api-sports.io\\/football\\/leagues\\/4.png\",\"flag\":null,\"season\":2012,\"round\":\"Quarter-finals\"},\"teams\":{\"home\":{\"id\":10,\"name\":\"England\",\"logo\":\"https:\\/\\/media.api-sports.io\\/football\\/teams\\/10.png\",\"winner\":false},\"away\":{\"id\":768,\"name\":\"Italy\",\"logo\":\"https:\\/\\/media.api-sports.io\\/football\\/teams\\/768.png\",\"winner\":true}},\"goals\":{\"home\":0,\"away\":0},\"score\":{\"halftime\":{\"home\":0,\"away\":0},\"fulltime\":{\"home\":0,\"away\":0},\"extratime\":{\"home\":0,\"away\":0},\"penalty\":{\"home\":2,\"away\":4}}},{\"fixture\":{\"id\":208445,\"referee\":null,\"timezone\":\"UTC\",\"date\":\"2012-06-27T18:45:00+00:00\",\"timestamp\":1340822700,\"periods\":{\"first\":1340822700,\"second\":1340826300},\"venue\":{\"id\":null,\"name\":\"Donbass Arena (Donets'k)\",\"city\":null},\"status\":{\"long\":\"Match Finished\",\"short\":\"PEN\",\"elapsed\":120}},\"league\":{\"id\":4,\"name\":\"Euro Championship\",\"country\":\"World\",\"logo\":\"https:\\/\\/media.api-sports.io\\/football\\/leagues\\/4.png\",\"flag\":null,\"season\":2012,\"round\":\"Semi-finals\"},\"teams\":{\"home\":{\"id\":27,\"name\":\"Portugal\",\"logo\":\"https:\\/\\/media.api-sports.io\\/football\\/teams\\/27.png\",\"winner\":false},\"away\":{\"id\":9,\"name\":\"Spain\",\"logo\":\"https:\\/\\/media.api-sports.io\\/football\\/teams\\/9.png\",\"winner\":true}},\"goals\":{\"home\":0,\"away\":0},\"score\":{\"halftime\":{\"home\":0,\"away\":0},\"fulltime\":{\"home\":0,\"away\":0},\"extratime\":{\"home\":0,\"away\":0},\"penalty\":{\"home\":2,\"away\":4}}}]}\n"
     ]
    }
   ],
   "source": [
    "conn.request(\"GET\", \"/fixtures?league=4&season=2012&status=pen\", headers=headers)\n",
    "# This is from the 2012 euro which I know it is correct\n",
    "res = conn.getresponse()\n",
    "data = res.read()\n",
    "\n",
    "print(data.decode(\"utf-8\"))"
   ]
  },
  {
   "cell_type": "code",
   "execution_count": 10,
   "id": "d4f6d408-acc3-485d-be8e-bcf3ea53f3b2",
   "metadata": {},
   "outputs": [
    {
     "name": "stdout",
     "output_type": "stream",
     "text": [
      "{\"get\":\"fixtures\\/events\",\"parameters\":{\"fixture\":\"208445\"},\"errors\":[],\"results\":6,\"paging\":{\"current\":1,\"total\":1},\"response\":[{\"time\":{\"elapsed\":54,\"extra\":null},\"team\":{\"id\":9,\"name\":\"Spain\",\"logo\":\"https:\\/\\/media.api-sports.io\\/football\\/teams\\/9.png\"},\"player\":{\"id\":50502,\"name\":\"Negredo\"},\"assist\":{\"id\":108,\"name\":\"F\\u00e0bregas\"},\"type\":\"subst\",\"detail\":\"Substitution 1\",\"comments\":null},{\"time\":{\"elapsed\":60,\"extra\":null},\"team\":{\"id\":9,\"name\":\"Spain\",\"logo\":\"https:\\/\\/media.api-sports.io\\/football\\/teams\\/9.png\"},\"player\":{\"id\":634,\"name\":\"David Silva\"},\"assist\":{\"id\":2054,\"name\":\"Jes\\u00fas Navas\"},\"type\":\"subst\",\"detail\":\"Substitution 2\",\"comments\":null},{\"time\":{\"elapsed\":81,\"extra\":null},\"team\":{\"id\":27,\"name\":\"Portugal\",\"logo\":\"https:\\/\\/media.api-sports.io\\/football\\/teams\\/27.png\"},\"player\":{\"id\":41658,\"name\":\"Hugo Almeida\"},\"assist\":{\"id\":19624,\"name\":\"N\\u00e9lson Oliveira\"},\"type\":\"subst\",\"detail\":\"Substitution 1\",\"comments\":null},{\"time\":{\"elapsed\":87,\"extra\":null},\"team\":{\"id\":9,\"name\":\"Spain\",\"logo\":\"https:\\/\\/media.api-sports.io\\/football\\/teams\\/9.png\"},\"player\":{\"id\":42041,\"name\":\"Xavi\"},\"assist\":{\"id\":2299,\"name\":\"Pedro\"},\"type\":\"subst\",\"detail\":\"Substitution 3\",\"comments\":null},{\"time\":{\"elapsed\":106,\"extra\":null},\"team\":{\"id\":27,\"name\":\"Portugal\",\"logo\":\"https:\\/\\/media.api-sports.io\\/football\\/teams\\/27.png\"},\"player\":{\"id\":30781,\"name\":\"Miguel Veloso\"},\"assist\":{\"id\":105286,\"name\":\"Custodio\"},\"type\":\"subst\",\"detail\":\"Substitution 2\",\"comments\":null},{\"time\":{\"elapsed\":113,\"extra\":null},\"team\":{\"id\":27,\"name\":\"Portugal\",\"logo\":\"https:\\/\\/media.api-sports.io\\/football\\/teams\\/27.png\"},\"player\":{\"id\":114800,\"name\":\"Raul Meireles\"},\"assist\":{\"id\":50123,\"name\":\"Silvestre Varela\"},\"type\":\"subst\",\"detail\":\"Substitution 3\",\"comments\":null}]}\n"
     ]
    }
   ],
   "source": [
    "conn.request(\"GET\", \"/fixtures/events?fixture=208445\", headers=headers)\n",
    "\n",
    "res = conn.getresponse()\n",
    "data = res.read()\n",
    "\n",
    "print(data.decode(\"utf-8\"))"
   ]
  },
  {
   "cell_type": "code",
   "execution_count": 18,
   "id": "46f46bd2",
   "metadata": {},
   "outputs": [
    {
     "name": "stdout",
     "output_type": "stream",
     "text": [
      "{\"get\":\"fixtures\",\"parameters\":{\"league\":\"4\",\"season\":\"2020\",\"status\":\"pen\"},\"errors\":[],\"results\":8,\"paging\":{\"current\":1,\"total\":1},\"response\":[{\"fixture\":{\"id\":569450,\"referee\":\"O. Ha\\u021began\",\"timezone\":\"UTC\",\"date\":\"2020-10-08T18:45:00+00:00\",\"timestamp\":1602182700,\"periods\":{\"first\":1602182700,\"second\":1602186300},\"venue\":{\"id\":2617,\"name\":\"Hampden Park\",\"city\":\"Glasgow\"},\"status\":{\"long\":\"Match Finished\",\"short\":\"PEN\",\"elapsed\":120}},\"league\":{\"id\":4,\"name\":\"Euro Championship\",\"country\":\"World\",\"logo\":\"https:\\/\\/media.api-sports.io\\/football\\/leagues\\/4.png\",\"flag\":null,\"season\":2020,\"round\":\"Qualifying Play-offs Path C - Semi-Finals\"},\"teams\":{\"home\":{\"id\":1108,\"name\":\"Scotland\",\"logo\":\"https:\\/\\/media.api-sports.io\\/football\\/teams\\/1108.png\",\"winner\":true},\"away\":{\"id\":1116,\"name\":\"Israel\",\"logo\":\"https:\\/\\/media.api-sports.io\\/football\\/teams\\/1116.png\",\"winner\":false}},\"goals\":{\"home\":0,\"away\":0},\"score\":{\"halftime\":{\"home\":0,\"away\":0},\"fulltime\":{\"home\":0,\"away\":0},\"extratime\":{\"home\":0,\"away\":0},\"penalty\":{\"home\":5,\"away\":3}}},{\"fixture\":{\"id\":569452,\"referee\":\"Antonio Mateu\",\"timezone\":\"UTC\",\"date\":\"2020-10-08T18:45:00+00:00\",\"timestamp\":1602182700,\"periods\":{\"first\":1602182700,\"second\":1602186300},\"venue\":{\"id\":201,\"name\":\"Stadion Grbavica\",\"city\":\"Sarajevo\"},\"status\":{\"long\":\"Match Finished\",\"short\":\"PEN\",\"elapsed\":120}},\"league\":{\"id\":4,\"name\":\"Euro Championship\",\"country\":\"World\",\"logo\":\"https:\\/\\/media.api-sports.io\\/football\\/leagues\\/4.png\",\"flag\":null,\"season\":2020,\"round\":\"Qualifying Play-offs Path B - Semi-Finals\"},\"teams\":{\"home\":{\"id\":1113,\"name\":\"Bosnia & Herzegovina\",\"logo\":\"https:\\/\\/media.api-sports.io\\/football\\/teams\\/1113.png\",\"winner\":false},\"away\":{\"id\":771,\"name\":\"Northern Ireland\",\"logo\":\"https:\\/\\/media.api-sports.io\\/football\\/teams\\/771.png\",\"winner\":true}},\"goals\":{\"home\":1,\"away\":1},\"score\":{\"halftime\":{\"home\":1,\"away\":0},\"fulltime\":{\"home\":1,\"away\":1},\"extratime\":{\"home\":0,\"away\":0},\"penalty\":{\"home\":3,\"away\":4}}},{\"fixture\":{\"id\":569453,\"referee\":\"C. Turpin\",\"timezone\":\"UTC\",\"date\":\"2020-10-08T18:45:00+00:00\",\"timestamp\":1602182700,\"periods\":{\"first\":1602182700,\"second\":1602186300},\"venue\":{\"id\":null,\"name\":\"\\u0160tadi\\u00f3n Teheln\\u00e9 pole\",\"city\":\"Bratislava\"},\"status\":{\"long\":\"Match Finished\",\"short\":\"PEN\",\"elapsed\":120}},\"league\":{\"id\":4,\"name\":\"Euro Championship\",\"country\":\"World\",\"logo\":\"https:\\/\\/media.api-sports.io\\/football\\/leagues\\/4.png\",\"flag\":null,\"season\":2020,\"round\":\"Qualifying Play-offs Path B - Semi-Finals\"},\"teams\":{\"home\":{\"id\":773,\"name\":\"Slovakia\",\"logo\":\"https:\\/\\/media.api-sports.io\\/football\\/teams\\/773.png\",\"winner\":true},\"away\":{\"id\":776,\"name\":\"Rep. Of Ireland\",\"logo\":\"https:\\/\\/media.api-sports.io\\/football\\/teams\\/776.png\",\"winner\":false}},\"goals\":{\"home\":0,\"away\":0},\"score\":{\"halftime\":{\"home\":0,\"away\":0},\"fulltime\":{\"home\":0,\"away\":0},\"extratime\":{\"home\":0,\"away\":0},\"penalty\":{\"home\":4,\"away\":2}}},{\"fixture\":{\"id\":640595,\"referee\":\"Antonio Mateu\",\"timezone\":\"UTC\",\"date\":\"2020-11-12T19:45:00+00:00\",\"timestamp\":1605210300,\"periods\":{\"first\":1605210300,\"second\":1605213900},\"venue\":{\"id\":1406,\"name\":\"Stadion Rajko Miti\\u0107\",\"city\":\"Beograd\"},\"status\":{\"long\":\"Match Finished\",\"short\":\"PEN\",\"elapsed\":120}},\"league\":{\"id\":4,\"name\":\"Euro Championship\",\"country\":\"World\",\"logo\":\"https:\\/\\/media.api-sports.io\\/football\\/leagues\\/4.png\",\"flag\":null,\"season\":2020,\"round\":\"Qualifying Play-offs Path C - Final\"},\"teams\":{\"home\":{\"id\":14,\"name\":\"Serbia\",\"logo\":\"https:\\/\\/media.api-sports.io\\/football\\/teams\\/14.png\",\"winner\":false},\"away\":{\"id\":1108,\"name\":\"Scotland\",\"logo\":\"https:\\/\\/media.api-sports.io\\/football\\/teams\\/1108.png\",\"winner\":true}},\"goals\":{\"home\":1,\"away\":1},\"score\":{\"halftime\":{\"home\":0,\"away\":0},\"fulltime\":{\"home\":1,\"away\":1},\"extratime\":{\"home\":0,\"away\":0},\"penalty\":{\"home\":4,\"away\":5}}},{\"fixture\":{\"id\":713474,\"referee\":\"F. Rapallini\",\"timezone\":\"UTC\",\"date\":\"2021-06-28T19:00:00+00:00\",\"timestamp\":1624906800,\"periods\":{\"first\":1624906800,\"second\":1624910400},\"venue\":{\"id\":1326,\"name\":\"Arena Na\\u0163ional\\u0103\",\"city\":\"Bucure\\u015fti\"},\"status\":{\"long\":\"Match Finished\",\"short\":\"PEN\",\"elapsed\":120}},\"league\":{\"id\":4,\"name\":\"Euro Championship\",\"country\":\"World\",\"logo\":\"https:\\/\\/media.api-sports.io\\/football\\/leagues\\/4.png\",\"flag\":null,\"season\":2020,\"round\":\"Round of 16\"},\"teams\":{\"home\":{\"id\":2,\"name\":\"France\",\"logo\":\"https:\\/\\/media.api-sports.io\\/football\\/teams\\/2.png\",\"winner\":false},\"away\":{\"id\":15,\"name\":\"Switzerland\",\"logo\":\"https:\\/\\/media.api-sports.io\\/football\\/teams\\/15.png\",\"winner\":true}},\"goals\":{\"home\":3,\"away\":3},\"score\":{\"halftime\":{\"home\":0,\"away\":1},\"fulltime\":{\"home\":3,\"away\":3},\"extratime\":{\"home\":0,\"away\":0},\"penalty\":{\"home\":4,\"away\":5}}},{\"fixture\":{\"id\":718243,\"referee\":\"M. Oliver\",\"timezone\":\"UTC\",\"date\":\"2021-07-02T16:00:00+00:00\",\"timestamp\":1625241600,\"periods\":{\"first\":1625241600,\"second\":1625245200},\"venue\":{\"id\":null,\"name\":\"Saint-Petersburg Stadium\",\"city\":\"St. Petersburg\"},\"status\":{\"long\":\"Match Finished\",\"short\":\"PEN\",\"elapsed\":120}},\"league\":{\"id\":4,\"name\":\"Euro Championship\",\"country\":\"World\",\"logo\":\"https:\\/\\/media.api-sports.io\\/football\\/leagues\\/4.png\",\"flag\":null,\"season\":2020,\"round\":\"Quarter-finals\"},\"teams\":{\"home\":{\"id\":15,\"name\":\"Switzerland\",\"logo\":\"https:\\/\\/media.api-sports.io\\/football\\/teams\\/15.png\",\"winner\":false},\"away\":{\"id\":9,\"name\":\"Spain\",\"logo\":\"https:\\/\\/media.api-sports.io\\/football\\/teams\\/9.png\",\"winner\":true}},\"goals\":{\"home\":1,\"away\":1},\"score\":{\"halftime\":{\"home\":0,\"away\":1},\"fulltime\":{\"home\":1,\"away\":1},\"extratime\":{\"home\":0,\"away\":0},\"penalty\":{\"home\":1,\"away\":3}}},{\"fixture\":{\"id\":721122,\"referee\":\"F. Brych\",\"timezone\":\"UTC\",\"date\":\"2021-07-06T19:00:00+00:00\",\"timestamp\":1625598000,\"periods\":{\"first\":1625598000,\"second\":1625601600},\"venue\":{\"id\":489,\"name\":\"Wembley Stadium\",\"city\":\"London\"},\"status\":{\"long\":\"Match Finished\",\"short\":\"PEN\",\"elapsed\":120}},\"league\":{\"id\":4,\"name\":\"Euro Championship\",\"country\":\"World\",\"logo\":\"https:\\/\\/media.api-sports.io\\/football\\/leagues\\/4.png\",\"flag\":null,\"season\":2020,\"round\":\"Semi-finals\"},\"teams\":{\"home\":{\"id\":768,\"name\":\"Italy\",\"logo\":\"https:\\/\\/media.api-sports.io\\/football\\/teams\\/768.png\",\"winner\":true},\"away\":{\"id\":9,\"name\":\"Spain\",\"logo\":\"https:\\/\\/media.api-sports.io\\/football\\/teams\\/9.png\",\"winner\":false}},\"goals\":{\"home\":1,\"away\":1},\"score\":{\"halftime\":{\"home\":0,\"away\":0},\"fulltime\":{\"home\":1,\"away\":1},\"extratime\":{\"home\":0,\"away\":0},\"penalty\":{\"home\":4,\"away\":2}}},{\"fixture\":{\"id\":723370,\"referee\":\"B. Kuipers\",\"timezone\":\"UTC\",\"date\":\"2021-07-11T19:00:00+00:00\",\"timestamp\":1626030000,\"periods\":{\"first\":1626030000,\"second\":1626033600},\"venue\":{\"id\":489,\"name\":\"Wembley Stadium\",\"city\":\"London\"},\"status\":{\"long\":\"Match Finished\",\"short\":\"PEN\",\"elapsed\":120}},\"league\":{\"id\":4,\"name\":\"Euro Championship\",\"country\":\"World\",\"logo\":\"https:\\/\\/media.api-sports.io\\/football\\/leagues\\/4.png\",\"flag\":null,\"season\":2020,\"round\":\"Final\"},\"teams\":{\"home\":{\"id\":768,\"name\":\"Italy\",\"logo\":\"https:\\/\\/media.api-sports.io\\/football\\/teams\\/768.png\",\"winner\":true},\"away\":{\"id\":10,\"name\":\"England\",\"logo\":\"https:\\/\\/media.api-sports.io\\/football\\/teams\\/10.png\",\"winner\":false}},\"goals\":{\"home\":1,\"away\":1},\"score\":{\"halftime\":{\"home\":0,\"away\":1},\"fulltime\":{\"home\":1,\"away\":1},\"extratime\":{\"home\":0,\"away\":0},\"penalty\":{\"home\":3,\"away\":2}}}]}\n"
     ]
    }
   ],
   "source": [
    "conn.request(\"GET\", \"/fixtures?league=4&season=2020&status=pen\", headers=headers)\n",
    "res = conn.getresponse()\n",
    "data = res.read()\n",
    "\n",
    "print(data.decode(\"utf-8\"))"
   ]
  },
  {
   "cell_type": "code",
   "execution_count": 22,
   "id": "bc17fc38",
   "metadata": {},
   "outputs": [
    {
     "name": "stdout",
     "output_type": "stream",
     "text": [
      "{\"get\":\"fixtures\\/events\",\"parameters\":{\"fixture\":\"718243\"},\"errors\":[],\"results\":27,\"paging\":{\"current\":1,\"total\":1},\"response\":[{\"time\":{\"elapsed\":8,\"extra\":null},\"team\":{\"id\":9,\"name\":\"Spain\",\"logo\":\"https:\\/\\/media.api-sports.io\\/football\\/teams\\/9.png\"},\"player\":{\"id\":2810,\"name\":\"D. Zakaria\"},\"assist\":{\"id\":null,\"name\":null},\"type\":\"Goal\",\"detail\":\"Own Goal\",\"comments\":null},{\"time\":{\"elapsed\":23,\"extra\":null},\"team\":{\"id\":15,\"name\":\"Switzerland\",\"logo\":\"https:\\/\\/media.api-sports.io\\/football\\/teams\\/15.png\"},\"player\":{\"id\":421,\"name\":\"B. Embolo\"},\"assist\":{\"id\":48471,\"name\":\"R. Vargas\"},\"type\":\"subst\",\"detail\":\"Substitution 1\",\"comments\":null},{\"time\":{\"elapsed\":46,\"extra\":null},\"team\":{\"id\":9,\"name\":\"Spain\",\"logo\":\"https:\\/\\/media.api-sports.io\\/football\\/teams\\/9.png\"},\"player\":{\"id\":2056,\"name\":\"Pablo Sarabia\"},\"assist\":{\"id\":1323,\"name\":\"Daniel Olmo\"},\"type\":\"subst\",\"detail\":\"Substitution 1\",\"comments\":null},{\"time\":{\"elapsed\":54,\"extra\":null},\"team\":{\"id\":9,\"name\":\"Spain\",\"logo\":\"https:\\/\\/media.api-sports.io\\/football\\/teams\\/9.png\"},\"player\":{\"id\":59,\"name\":\"Morata\"},\"assist\":{\"id\":1707,\"name\":\"Gerard Moreno\"},\"type\":\"subst\",\"detail\":\"Substitution 2\",\"comments\":null},{\"time\":{\"elapsed\":67,\"extra\":null},\"team\":{\"id\":15,\"name\":\"Switzerland\",\"logo\":\"https:\\/\\/media.api-sports.io\\/football\\/teams\\/15.png\"},\"player\":{\"id\":48378,\"name\":\"S. Widmer\"},\"assist\":{\"id\":null,\"name\":null},\"type\":\"Card\",\"detail\":\"Yellow Card\",\"comments\":\"Roughing\"},{\"time\":{\"elapsed\":68,\"extra\":null},\"team\":{\"id\":15,\"name\":\"Switzerland\",\"logo\":\"https:\\/\\/media.api-sports.io\\/football\\/teams\\/15.png\"},\"player\":{\"id\":307,\"name\":\"X. Shaqiri\"},\"assist\":{\"id\":2807,\"name\":\"R. Freuler\"},\"type\":\"Goal\",\"detail\":\"Normal Goal\",\"comments\":null},{\"time\":{\"elapsed\":77,\"extra\":null},\"team\":{\"id\":15,\"name\":\"Switzerland\",\"logo\":\"https:\\/\\/media.api-sports.io\\/football\\/teams\\/15.png\"},\"player\":{\"id\":2807,\"name\":\"R. Freuler\"},\"assist\":{\"id\":null,\"name\":null},\"type\":\"Card\",\"detail\":\"Red Card\",\"comments\":\"Tripping\"},{\"time\":{\"elapsed\":81,\"extra\":null},\"team\":{\"id\":15,\"name\":\"Switzerland\",\"logo\":\"https:\\/\\/media.api-sports.io\\/football\\/teams\\/15.png\"},\"player\":{\"id\":307,\"name\":\"X. Shaqiri\"},\"assist\":{\"id\":957,\"name\":\"D. Sow\"},\"type\":\"subst\",\"detail\":\"Substitution 2\",\"comments\":null},{\"time\":{\"elapsed\":82,\"extra\":null},\"team\":{\"id\":15,\"name\":\"Switzerland\",\"logo\":\"https:\\/\\/media.api-sports.io\\/football\\/teams\\/15.png\"},\"player\":{\"id\":582,\"name\":\"H. Seferovi\\u0107\"},\"assist\":{\"id\":1326,\"name\":\"M. Gavranovi\\u0107\"},\"type\":\"subst\",\"detail\":\"Substitution 3\",\"comments\":null},{\"time\":{\"elapsed\":90,\"extra\":1},\"team\":{\"id\":9,\"name\":\"Spain\",\"logo\":\"https:\\/\\/media.api-sports.io\\/football\\/teams\\/9.png\"},\"player\":{\"id\":50,\"name\":\"Koke\"},\"assist\":{\"id\":753,\"name\":\"Marcos Llorente\"},\"type\":\"subst\",\"detail\":\"Substitution 3\",\"comments\":null},{\"time\":{\"elapsed\":90,\"extra\":null},\"team\":{\"id\":9,\"name\":\"Spain\",\"logo\":\"https:\\/\\/media.api-sports.io\\/football\\/teams\\/9.png\"},\"player\":{\"id\":931,\"name\":\"Ferran Torres\"},\"assist\":{\"id\":47323,\"name\":\"Mikel Oyarzabal\"},\"type\":\"subst\",\"detail\":\"Substitution 4\",\"comments\":null},{\"time\":{\"elapsed\":90,\"extra\":2},\"team\":{\"id\":15,\"name\":\"Switzerland\",\"logo\":\"https:\\/\\/media.api-sports.io\\/football\\/teams\\/15.png\"},\"player\":{\"id\":2811,\"name\":\"S. Zuber\"},\"assist\":{\"id\":952,\"name\":\"C. Fassnacht\"},\"type\":\"subst\",\"detail\":\"Substitution 4\",\"comments\":null},{\"time\":{\"elapsed\":90,\"extra\":3},\"team\":{\"id\":9,\"name\":\"Spain\",\"logo\":\"https:\\/\\/media.api-sports.io\\/football\\/teams\\/9.png\"},\"player\":{\"id\":622,\"name\":\"A. Laporte\"},\"assist\":{\"id\":null,\"name\":null},\"type\":\"Card\",\"detail\":\"Yellow Card\",\"comments\":\"Roughing\"},{\"time\":{\"elapsed\":100,\"extra\":null},\"team\":{\"id\":15,\"name\":\"Switzerland\",\"logo\":\"https:\\/\\/media.api-sports.io\\/football\\/teams\\/15.png\"},\"player\":{\"id\":48378,\"name\":\"S. Widmer\"},\"assist\":{\"id\":946,\"name\":\"K. Mbabu\"},\"type\":\"subst\",\"detail\":\"Substitution 5\",\"comments\":null},{\"time\":{\"elapsed\":100,\"extra\":null},\"team\":{\"id\":15,\"name\":\"Switzerland\",\"logo\":\"https:\\/\\/media.api-sports.io\\/football\\/teams\\/15.png\"},\"player\":{\"id\":2810,\"name\":\"D. Zakaria\"},\"assist\":{\"id\":2806,\"name\":\"F. Sch\\u00e4r\"},\"type\":\"subst\",\"detail\":\"Substitution 6\",\"comments\":null},{\"time\":{\"elapsed\":113,\"extra\":null},\"team\":{\"id\":9,\"name\":\"Spain\",\"logo\":\"https:\\/\\/media.api-sports.io\\/football\\/teams\\/9.png\"},\"player\":{\"id\":46815,\"name\":\"Pau Torres\"},\"assist\":{\"id\":507,\"name\":\"Thiago Alc\\u00e2ntara\"},\"type\":\"subst\",\"detail\":\"Substitution 5\",\"comments\":null},{\"time\":{\"elapsed\":119,\"extra\":null},\"team\":{\"id\":9,\"name\":\"Spain\",\"logo\":\"https:\\/\\/media.api-sports.io\\/football\\/teams\\/9.png\"},\"player\":{\"id\":133609,\"name\":\"Pedri\"},\"assist\":{\"id\":44,\"name\":\"Rodri\"},\"type\":\"subst\",\"detail\":\"Substitution 6\",\"comments\":null},{\"time\":{\"elapsed\":120,\"extra\":1},\"team\":{\"id\":15,\"name\":\"Switzerland\",\"logo\":\"https:\\/\\/media.api-sports.io\\/football\\/teams\\/15.png\"},\"player\":{\"id\":1326,\"name\":\"M. Gavranovic\"},\"assist\":{\"id\":null,\"name\":null},\"type\":\"Card\",\"detail\":\"Yellow Card\",\"comments\":\"Foul\"},{\"time\":{\"elapsed\":120,\"extra\":1},\"team\":{\"id\":9,\"name\":\"Spain\",\"logo\":\"https:\\/\\/media.api-sports.io\\/football\\/teams\\/9.png\"},\"player\":{\"id\":144,\"name\":\"Sergio Busquets\"},\"assist\":{\"id\":null,\"name\":null},\"type\":\"Goal\",\"detail\":\"Missed Penalty\",\"comments\":\"Penalty Shootout\"},{\"time\":{\"elapsed\":120,\"extra\":2},\"team\":{\"id\":15,\"name\":\"Switzerland\",\"logo\":\"https:\\/\\/media.api-sports.io\\/football\\/teams\\/15.png\"},\"player\":{\"id\":1326,\"name\":\"M. Gavranovi\\u0107\"},\"assist\":{\"id\":null,\"name\":null},\"type\":\"Goal\",\"detail\":\"Penalty\",\"comments\":\"Penalty Shootout\"},{\"time\":{\"elapsed\":120,\"extra\":3},\"team\":{\"id\":9,\"name\":\"Spain\",\"logo\":\"https:\\/\\/media.api-sports.io\\/football\\/teams\\/9.png\"},\"player\":{\"id\":1323,\"name\":\"Daniel Olmo\"},\"assist\":{\"id\":null,\"name\":null},\"type\":\"Goal\",\"detail\":\"Penalty\",\"comments\":\"Penalty Shootout\"},{\"time\":{\"elapsed\":120,\"extra\":4},\"team\":{\"id\":15,\"name\":\"Switzerland\",\"logo\":\"https:\\/\\/media.api-sports.io\\/football\\/teams\\/15.png\"},\"player\":{\"id\":2806,\"name\":\"F. Sch\\u00e4r\"},\"assist\":{\"id\":null,\"name\":null},\"type\":\"Goal\",\"detail\":\"Missed Penalty\",\"comments\":\"Penalty Shootout\"},{\"time\":{\"elapsed\":120,\"extra\":5},\"team\":{\"id\":9,\"name\":\"Spain\",\"logo\":\"https:\\/\\/media.api-sports.io\\/football\\/teams\\/9.png\"},\"player\":{\"id\":44,\"name\":\"Rodri\"},\"assist\":{\"id\":null,\"name\":null},\"type\":\"Goal\",\"detail\":\"Missed Penalty\",\"comments\":\"Penalty Shootout\"},{\"time\":{\"elapsed\":120,\"extra\":6},\"team\":{\"id\":15,\"name\":\"Switzerland\",\"logo\":\"https:\\/\\/media.api-sports.io\\/football\\/teams\\/15.png\"},\"player\":{\"id\":5,\"name\":\"M. Akanji\"},\"assist\":{\"id\":null,\"name\":null},\"type\":\"Goal\",\"detail\":\"Missed Penalty\",\"comments\":\"Penalty Shootout\"},{\"time\":{\"elapsed\":120,\"extra\":7},\"team\":{\"id\":9,\"name\":\"Spain\",\"logo\":\"https:\\/\\/media.api-sports.io\\/football\\/teams\\/9.png\"},\"player\":{\"id\":1707,\"name\":\"Gerard Moreno\"},\"assist\":{\"id\":null,\"name\":null},\"type\":\"Goal\",\"detail\":\"Penalty\",\"comments\":\"Penalty Shootout\"},{\"time\":{\"elapsed\":120,\"extra\":8},\"team\":{\"id\":15,\"name\":\"Switzerland\",\"logo\":\"https:\\/\\/media.api-sports.io\\/football\\/teams\\/15.png\"},\"player\":{\"id\":48471,\"name\":\"R. Vargas\"},\"assist\":{\"id\":null,\"name\":null},\"type\":\"Goal\",\"detail\":\"Missed Penalty\",\"comments\":\"Penalty Shootout\"},{\"time\":{\"elapsed\":120,\"extra\":9},\"team\":{\"id\":9,\"name\":\"Spain\",\"logo\":\"https:\\/\\/media.api-sports.io\\/football\\/teams\\/9.png\"},\"player\":{\"id\":47323,\"name\":\"Mikel Oyarzabal\"},\"assist\":{\"id\":null,\"name\":null},\"type\":\"Goal\",\"detail\":\"Penalty\",\"comments\":\"Penalty Shootout\"}]}\n"
     ]
    }
   ],
   "source": [
    "conn.request(\"GET\", \"/fixtures/events?fixture=718243\", headers=headers)\n",
    "\n",
    "res = conn.getresponse()\n",
    "data = res.read()\n",
    "\n",
    "print(data.decode(\"utf-8\"))"
   ]
  },
  {
   "cell_type": "code",
   "execution_count": 32,
   "id": "9890dd00",
   "metadata": {},
   "outputs": [],
   "source": [
    "suisp = pd.read_json('suisp.json')"
   ]
  },
  {
   "cell_type": "code",
   "execution_count": 34,
   "id": "9e79c7b8",
   "metadata": {},
   "outputs": [
    {
     "data": {
      "text/html": [
       "<div>\n",
       "<style scoped>\n",
       "    .dataframe tbody tr th:only-of-type {\n",
       "        vertical-align: middle;\n",
       "    }\n",
       "\n",
       "    .dataframe tbody tr th {\n",
       "        vertical-align: top;\n",
       "    }\n",
       "\n",
       "    .dataframe thead th {\n",
       "        text-align: right;\n",
       "    }\n",
       "</style>\n",
       "<table border=\"1\" class=\"dataframe\">\n",
       "  <thead>\n",
       "    <tr style=\"text-align: right;\">\n",
       "      <th></th>\n",
       "      <th>time</th>\n",
       "      <th>team</th>\n",
       "      <th>player</th>\n",
       "      <th>assist</th>\n",
       "      <th>type</th>\n",
       "      <th>detail</th>\n",
       "      <th>comments</th>\n",
       "    </tr>\n",
       "  </thead>\n",
       "  <tbody>\n",
       "    <tr>\n",
       "      <th>18</th>\n",
       "      <td>{'elapsed': 120, 'extra': 1}</td>\n",
       "      <td>{'id': 9, 'name': 'Spain', 'logo': 'https://me...</td>\n",
       "      <td>{'id': 144, 'name': 'Sergio Busquets'}</td>\n",
       "      <td>{'id': None, 'name': None}</td>\n",
       "      <td>Goal</td>\n",
       "      <td>Missed Penalty</td>\n",
       "      <td>Penalty Shootout</td>\n",
       "    </tr>\n",
       "    <tr>\n",
       "      <th>19</th>\n",
       "      <td>{'elapsed': 120, 'extra': 2}</td>\n",
       "      <td>{'id': 15, 'name': 'Switzerland', 'logo': 'htt...</td>\n",
       "      <td>{'id': 1326, 'name': 'M. Gavranović'}</td>\n",
       "      <td>{'id': None, 'name': None}</td>\n",
       "      <td>Goal</td>\n",
       "      <td>Penalty</td>\n",
       "      <td>Penalty Shootout</td>\n",
       "    </tr>\n",
       "    <tr>\n",
       "      <th>20</th>\n",
       "      <td>{'elapsed': 120, 'extra': 3}</td>\n",
       "      <td>{'id': 9, 'name': 'Spain', 'logo': 'https://me...</td>\n",
       "      <td>{'id': 1323, 'name': 'Daniel Olmo'}</td>\n",
       "      <td>{'id': None, 'name': None}</td>\n",
       "      <td>Goal</td>\n",
       "      <td>Penalty</td>\n",
       "      <td>Penalty Shootout</td>\n",
       "    </tr>\n",
       "    <tr>\n",
       "      <th>21</th>\n",
       "      <td>{'elapsed': 120, 'extra': 4}</td>\n",
       "      <td>{'id': 15, 'name': 'Switzerland', 'logo': 'htt...</td>\n",
       "      <td>{'id': 2806, 'name': 'F. Schär'}</td>\n",
       "      <td>{'id': None, 'name': None}</td>\n",
       "      <td>Goal</td>\n",
       "      <td>Missed Penalty</td>\n",
       "      <td>Penalty Shootout</td>\n",
       "    </tr>\n",
       "    <tr>\n",
       "      <th>22</th>\n",
       "      <td>{'elapsed': 120, 'extra': 5}</td>\n",
       "      <td>{'id': 9, 'name': 'Spain', 'logo': 'https://me...</td>\n",
       "      <td>{'id': 44, 'name': 'Rodri'}</td>\n",
       "      <td>{'id': None, 'name': None}</td>\n",
       "      <td>Goal</td>\n",
       "      <td>Missed Penalty</td>\n",
       "      <td>Penalty Shootout</td>\n",
       "    </tr>\n",
       "    <tr>\n",
       "      <th>23</th>\n",
       "      <td>{'elapsed': 120, 'extra': 6}</td>\n",
       "      <td>{'id': 15, 'name': 'Switzerland', 'logo': 'htt...</td>\n",
       "      <td>{'id': 5, 'name': 'M. Akanji'}</td>\n",
       "      <td>{'id': None, 'name': None}</td>\n",
       "      <td>Goal</td>\n",
       "      <td>Missed Penalty</td>\n",
       "      <td>Penalty Shootout</td>\n",
       "    </tr>\n",
       "    <tr>\n",
       "      <th>24</th>\n",
       "      <td>{'elapsed': 120, 'extra': 7}</td>\n",
       "      <td>{'id': 9, 'name': 'Spain', 'logo': 'https://me...</td>\n",
       "      <td>{'id': 1707, 'name': 'Gerard Moreno'}</td>\n",
       "      <td>{'id': None, 'name': None}</td>\n",
       "      <td>Goal</td>\n",
       "      <td>Penalty</td>\n",
       "      <td>Penalty Shootout</td>\n",
       "    </tr>\n",
       "    <tr>\n",
       "      <th>25</th>\n",
       "      <td>{'elapsed': 120, 'extra': 8}</td>\n",
       "      <td>{'id': 15, 'name': 'Switzerland', 'logo': 'htt...</td>\n",
       "      <td>{'id': 48471, 'name': 'R. Vargas'}</td>\n",
       "      <td>{'id': None, 'name': None}</td>\n",
       "      <td>Goal</td>\n",
       "      <td>Missed Penalty</td>\n",
       "      <td>Penalty Shootout</td>\n",
       "    </tr>\n",
       "    <tr>\n",
       "      <th>26</th>\n",
       "      <td>{'elapsed': 120, 'extra': 9}</td>\n",
       "      <td>{'id': 9, 'name': 'Spain', 'logo': 'https://me...</td>\n",
       "      <td>{'id': 47323, 'name': 'Mikel Oyarzabal'}</td>\n",
       "      <td>{'id': None, 'name': None}</td>\n",
       "      <td>Goal</td>\n",
       "      <td>Penalty</td>\n",
       "      <td>Penalty Shootout</td>\n",
       "    </tr>\n",
       "  </tbody>\n",
       "</table>\n",
       "</div>"
      ],
      "text/plain": [
       "                            time  \\\n",
       "18  {'elapsed': 120, 'extra': 1}   \n",
       "19  {'elapsed': 120, 'extra': 2}   \n",
       "20  {'elapsed': 120, 'extra': 3}   \n",
       "21  {'elapsed': 120, 'extra': 4}   \n",
       "22  {'elapsed': 120, 'extra': 5}   \n",
       "23  {'elapsed': 120, 'extra': 6}   \n",
       "24  {'elapsed': 120, 'extra': 7}   \n",
       "25  {'elapsed': 120, 'extra': 8}   \n",
       "26  {'elapsed': 120, 'extra': 9}   \n",
       "\n",
       "                                                 team  \\\n",
       "18  {'id': 9, 'name': 'Spain', 'logo': 'https://me...   \n",
       "19  {'id': 15, 'name': 'Switzerland', 'logo': 'htt...   \n",
       "20  {'id': 9, 'name': 'Spain', 'logo': 'https://me...   \n",
       "21  {'id': 15, 'name': 'Switzerland', 'logo': 'htt...   \n",
       "22  {'id': 9, 'name': 'Spain', 'logo': 'https://me...   \n",
       "23  {'id': 15, 'name': 'Switzerland', 'logo': 'htt...   \n",
       "24  {'id': 9, 'name': 'Spain', 'logo': 'https://me...   \n",
       "25  {'id': 15, 'name': 'Switzerland', 'logo': 'htt...   \n",
       "26  {'id': 9, 'name': 'Spain', 'logo': 'https://me...   \n",
       "\n",
       "                                      player                      assist  \\\n",
       "18    {'id': 144, 'name': 'Sergio Busquets'}  {'id': None, 'name': None}   \n",
       "19     {'id': 1326, 'name': 'M. Gavranović'}  {'id': None, 'name': None}   \n",
       "20       {'id': 1323, 'name': 'Daniel Olmo'}  {'id': None, 'name': None}   \n",
       "21          {'id': 2806, 'name': 'F. Schär'}  {'id': None, 'name': None}   \n",
       "22               {'id': 44, 'name': 'Rodri'}  {'id': None, 'name': None}   \n",
       "23            {'id': 5, 'name': 'M. Akanji'}  {'id': None, 'name': None}   \n",
       "24     {'id': 1707, 'name': 'Gerard Moreno'}  {'id': None, 'name': None}   \n",
       "25        {'id': 48471, 'name': 'R. Vargas'}  {'id': None, 'name': None}   \n",
       "26  {'id': 47323, 'name': 'Mikel Oyarzabal'}  {'id': None, 'name': None}   \n",
       "\n",
       "    type          detail          comments  \n",
       "18  Goal  Missed Penalty  Penalty Shootout  \n",
       "19  Goal         Penalty  Penalty Shootout  \n",
       "20  Goal         Penalty  Penalty Shootout  \n",
       "21  Goal  Missed Penalty  Penalty Shootout  \n",
       "22  Goal  Missed Penalty  Penalty Shootout  \n",
       "23  Goal  Missed Penalty  Penalty Shootout  \n",
       "24  Goal         Penalty  Penalty Shootout  \n",
       "25  Goal  Missed Penalty  Penalty Shootout  \n",
       "26  Goal         Penalty  Penalty Shootout  "
      ]
     },
     "execution_count": 34,
     "metadata": {},
     "output_type": "execute_result"
    }
   ],
   "source": [
    "suisp[suisp['comments'] == 'Penalty Shootout']"
   ]
  },
  {
   "cell_type": "code",
   "execution_count": 26,
   "id": "88bc5fc9",
   "metadata": {},
   "outputs": [
    {
     "name": "stdout",
     "output_type": "stream",
     "text": [
      "{\"get\":\"fixtures\\/events\",\"parameters\":{\"fixture\":\"723370\"},\"errors\":[],\"results\":29,\"paging\":{\"current\":1,\"total\":1},\"response\":[{\"time\":{\"elapsed\":2,\"extra\":null},\"team\":{\"id\":10,\"name\":\"England\",\"logo\":\"https:\\/\\/media.api-sports.io\\/football\\/teams\\/10.png\"},\"player\":{\"id\":891,\"name\":\"L. Shaw\"},\"assist\":{\"id\":169,\"name\":\"K. Trippier\"},\"type\":\"Goal\",\"detail\":\"Normal Goal\",\"comments\":null},{\"time\":{\"elapsed\":47,\"extra\":null},\"team\":{\"id\":768,\"name\":\"Italy\",\"logo\":\"https:\\/\\/media.api-sports.io\\/football\\/teams\\/768.png\"},\"player\":{\"id\":30558,\"name\":\"N. Barella\"},\"assist\":{\"id\":null,\"name\":null},\"type\":\"Card\",\"detail\":\"Yellow Card\",\"comments\":\"Tripping\"},{\"time\":{\"elapsed\":54,\"extra\":null},\"team\":{\"id\":768,\"name\":\"Italy\",\"logo\":\"https:\\/\\/media.api-sports.io\\/football\\/teams\\/768.png\"},\"player\":{\"id\":30558,\"name\":\"N. Barella\"},\"assist\":{\"id\":778,\"name\":\"B. Cristante\"},\"type\":\"subst\",\"detail\":\"Substitution 1\",\"comments\":null},{\"time\":{\"elapsed\":55,\"extra\":null},\"team\":{\"id\":768,\"name\":\"Italy\",\"logo\":\"https:\\/\\/media.api-sports.io\\/football\\/teams\\/768.png\"},\"player\":{\"id\":853,\"name\":\"L. Bonucci\"},\"assist\":{\"id\":null,\"name\":null},\"type\":\"Card\",\"detail\":\"Yellow Card\",\"comments\":\"Tripping\"},{\"time\":{\"elapsed\":55,\"extra\":null},\"team\":{\"id\":768,\"name\":\"Italy\",\"logo\":\"https:\\/\\/media.api-sports.io\\/football\\/teams\\/768.png\"},\"player\":{\"id\":1863,\"name\":\"C. Immobile\"},\"assist\":{\"id\":30537,\"name\":\"D. Berardi\"},\"type\":\"subst\",\"detail\":\"Substitution 2\",\"comments\":null},{\"time\":{\"elapsed\":67,\"extra\":null},\"team\":{\"id\":768,\"name\":\"Italy\",\"logo\":\"https:\\/\\/media.api-sports.io\\/football\\/teams\\/768.png\"},\"player\":{\"id\":853,\"name\":\"L. Bonucci\"},\"assist\":{\"id\":null,\"name\":null},\"type\":\"Goal\",\"detail\":\"Normal Goal\",\"comments\":null},{\"time\":{\"elapsed\":70,\"extra\":null},\"team\":{\"id\":10,\"name\":\"England\",\"logo\":\"https:\\/\\/media.api-sports.io\\/football\\/teams\\/10.png\"},\"player\":{\"id\":169,\"name\":\"K. Trippier\"},\"assist\":{\"id\":1460,\"name\":\"B. Saka\"},\"type\":\"subst\",\"detail\":\"Substitution 1\",\"comments\":null},{\"time\":{\"elapsed\":74,\"extra\":null},\"team\":{\"id\":10,\"name\":\"England\",\"logo\":\"https:\\/\\/media.api-sports.io\\/football\\/teams\\/10.png\"},\"player\":{\"id\":2937,\"name\":\"D. Rice\"},\"assist\":{\"id\":292,\"name\":\"J. Henderson\"},\"type\":\"subst\",\"detail\":\"Substitution 2\",\"comments\":null},{\"time\":{\"elapsed\":84,\"extra\":null},\"team\":{\"id\":768,\"name\":\"Italy\",\"logo\":\"https:\\/\\/media.api-sports.io\\/football\\/teams\\/768.png\"},\"player\":{\"id\":331,\"name\":\"L. Insigne\"},\"assist\":{\"id\":null,\"name\":null},\"type\":\"Card\",\"detail\":\"Yellow Card\",\"comments\":\"Tripping\"},{\"time\":{\"elapsed\":86,\"extra\":null},\"team\":{\"id\":768,\"name\":\"Italy\",\"logo\":\"https:\\/\\/media.api-sports.io\\/football\\/teams\\/768.png\"},\"player\":{\"id\":30410,\"name\":\"F. Chiesa\"},\"assist\":{\"id\":873,\"name\":\"F. Bernardeschi\"},\"type\":\"subst\",\"detail\":\"Substitution 3\",\"comments\":null},{\"time\":{\"elapsed\":90,\"extra\":6},\"team\":{\"id\":768,\"name\":\"Italy\",\"logo\":\"https:\\/\\/media.api-sports.io\\/football\\/teams\\/768.png\"},\"player\":{\"id\":856,\"name\":\"G. Chiellini\"},\"assist\":{\"id\":null,\"name\":null},\"type\":\"Card\",\"detail\":\"Yellow Card\",\"comments\":\"Holding\"},{\"time\":{\"elapsed\":90,\"extra\":null},\"team\":{\"id\":768,\"name\":\"Italy\",\"logo\":\"https:\\/\\/media.api-sports.io\\/football\\/teams\\/768.png\"},\"player\":{\"id\":331,\"name\":\"L. Insigne\"},\"assist\":{\"id\":30509,\"name\":\"A. Belotti\"},\"type\":\"subst\",\"detail\":\"Substitution 4\",\"comments\":null},{\"time\":{\"elapsed\":96,\"extra\":null},\"team\":{\"id\":768,\"name\":\"Italy\",\"logo\":\"https:\\/\\/media.api-sports.io\\/football\\/teams\\/768.png\"},\"player\":{\"id\":273,\"name\":\"M. Verratti\"},\"assist\":{\"id\":30533,\"name\":\"M. Locatelli\"},\"type\":\"subst\",\"detail\":\"Substitution 5\",\"comments\":null},{\"time\":{\"elapsed\":99,\"extra\":null},\"team\":{\"id\":10,\"name\":\"England\",\"logo\":\"https:\\/\\/media.api-sports.io\\/football\\/teams\\/10.png\"},\"player\":{\"id\":19220,\"name\":\"M. Mount\"},\"assist\":{\"id\":19187,\"name\":\"J. Grealish\"},\"type\":\"subst\",\"detail\":\"Substitution 3\",\"comments\":null},{\"time\":{\"elapsed\":106,\"extra\":null},\"team\":{\"id\":10,\"name\":\"England\",\"logo\":\"https:\\/\\/media.api-sports.io\\/football\\/teams\\/10.png\"},\"player\":{\"id\":2935,\"name\":\"H. Maguire\"},\"assist\":{\"id\":null,\"name\":null},\"type\":\"Card\",\"detail\":\"Yellow Card\",\"comments\":\"Roughing\"},{\"time\":{\"elapsed\":114,\"extra\":null},\"team\":{\"id\":768,\"name\":\"Italy\",\"logo\":\"https:\\/\\/media.api-sports.io\\/football\\/teams\\/768.png\"},\"player\":{\"id\":2289,\"name\":\"Jorginho\"},\"assist\":{\"id\":null,\"name\":null},\"type\":\"Card\",\"detail\":\"Yellow Card\",\"comments\":\"Roughing\"},{\"time\":{\"elapsed\":118,\"extra\":null},\"team\":{\"id\":768,\"name\":\"Italy\",\"logo\":\"https:\\/\\/media.api-sports.io\\/football\\/teams\\/768.png\"},\"player\":{\"id\":2284,\"name\":\"Emerson\"},\"assist\":{\"id\":769,\"name\":\"A. Florenzi\"},\"type\":\"subst\",\"detail\":\"Substitution 6\",\"comments\":null},{\"time\":{\"elapsed\":120,\"extra\":null},\"team\":{\"id\":10,\"name\":\"England\",\"logo\":\"https:\\/\\/media.api-sports.io\\/football\\/teams\\/10.png\"},\"player\":{\"id\":627,\"name\":\"K. Walker\"},\"assist\":{\"id\":18,\"name\":\"J. Sancho\"},\"type\":\"subst\",\"detail\":\"Substitution 4\",\"comments\":null},{\"time\":{\"elapsed\":120,\"extra\":null},\"team\":{\"id\":10,\"name\":\"England\",\"logo\":\"https:\\/\\/media.api-sports.io\\/football\\/teams\\/10.png\"},\"player\":{\"id\":292,\"name\":\"J. Henderson\"},\"assist\":{\"id\":909,\"name\":\"M. Rashford\"},\"type\":\"subst\",\"detail\":\"Substitution 5\",\"comments\":null},{\"time\":{\"elapsed\":120,\"extra\":1},\"team\":{\"id\":768,\"name\":\"Italy\",\"logo\":\"https:\\/\\/media.api-sports.io\\/football\\/teams\\/768.png\"},\"player\":{\"id\":30537,\"name\":\"D. Berardi\"},\"assist\":{\"id\":null,\"name\":null},\"type\":\"Goal\",\"detail\":\"Penalty\",\"comments\":\"Penalty Shootout\"},{\"time\":{\"elapsed\":120,\"extra\":2},\"team\":{\"id\":10,\"name\":\"England\",\"logo\":\"https:\\/\\/media.api-sports.io\\/football\\/teams\\/10.png\"},\"player\":{\"id\":184,\"name\":\"H. Kane\"},\"assist\":{\"id\":null,\"name\":null},\"type\":\"Goal\",\"detail\":\"Penalty\",\"comments\":\"Penalty Shootout\"},{\"time\":{\"elapsed\":120,\"extra\":3},\"team\":{\"id\":768,\"name\":\"Italy\",\"logo\":\"https:\\/\\/media.api-sports.io\\/football\\/teams\\/768.png\"},\"player\":{\"id\":30509,\"name\":\"A. Belotti\"},\"assist\":{\"id\":null,\"name\":null},\"type\":\"Goal\",\"detail\":\"Missed Penalty\",\"comments\":\"Penalty Shootout\"},{\"time\":{\"elapsed\":120,\"extra\":4},\"team\":{\"id\":10,\"name\":\"England\",\"logo\":\"https:\\/\\/media.api-sports.io\\/football\\/teams\\/10.png\"},\"player\":{\"id\":2935,\"name\":\"H. Maguire\"},\"assist\":{\"id\":null,\"name\":null},\"type\":\"Goal\",\"detail\":\"Penalty\",\"comments\":\"Penalty Shootout\"},{\"time\":{\"elapsed\":120,\"extra\":5},\"team\":{\"id\":768,\"name\":\"Italy\",\"logo\":\"https:\\/\\/media.api-sports.io\\/football\\/teams\\/768.png\"},\"player\":{\"id\":853,\"name\":\"L. Bonucci\"},\"assist\":{\"id\":null,\"name\":null},\"type\":\"Goal\",\"detail\":\"Penalty\",\"comments\":\"Penalty Shootout\"},{\"time\":{\"elapsed\":120,\"extra\":6},\"team\":{\"id\":10,\"name\":\"England\",\"logo\":\"https:\\/\\/media.api-sports.io\\/football\\/teams\\/10.png\"},\"player\":{\"id\":909,\"name\":\"M. Rashford\"},\"assist\":{\"id\":null,\"name\":null},\"type\":\"Goal\",\"detail\":\"Missed Penalty\",\"comments\":\"Penalty Shootout\"},{\"time\":{\"elapsed\":120,\"extra\":7},\"team\":{\"id\":768,\"name\":\"Italy\",\"logo\":\"https:\\/\\/media.api-sports.io\\/football\\/teams\\/768.png\"},\"player\":{\"id\":873,\"name\":\"F. Bernardeschi\"},\"assist\":{\"id\":null,\"name\":null},\"type\":\"Goal\",\"detail\":\"Penalty\",\"comments\":\"Penalty Shootout\"},{\"time\":{\"elapsed\":120,\"extra\":8},\"team\":{\"id\":10,\"name\":\"England\",\"logo\":\"https:\\/\\/media.api-sports.io\\/football\\/teams\\/10.png\"},\"player\":{\"id\":18,\"name\":\"J. Sancho\"},\"assist\":{\"id\":null,\"name\":null},\"type\":\"Goal\",\"detail\":\"Missed Penalty\",\"comments\":\"Penalty Shootout\"},{\"time\":{\"elapsed\":120,\"extra\":9},\"team\":{\"id\":768,\"name\":\"Italy\",\"logo\":\"https:\\/\\/media.api-sports.io\\/football\\/teams\\/768.png\"},\"player\":{\"id\":2289,\"name\":\"Jorginho\"},\"assist\":{\"id\":null,\"name\":null},\"type\":\"Goal\",\"detail\":\"Missed Penalty\",\"comments\":\"Penalty Shootout\"},{\"time\":{\"elapsed\":120,\"extra\":10},\"team\":{\"id\":10,\"name\":\"England\",\"logo\":\"https:\\/\\/media.api-sports.io\\/football\\/teams\\/10.png\"},\"player\":{\"id\":1460,\"name\":\"B. Saka\"},\"assist\":{\"id\":null,\"name\":null},\"type\":\"Goal\",\"detail\":\"Missed Penalty\",\"comments\":\"Penalty Shootout\"}]}\n"
     ]
    }
   ],
   "source": [
    "conn.request(\"GET\", \"/fixtures/events?fixture=723370\", headers=headers)\n",
    "\n",
    "res = conn.getresponse()\n",
    "data = res.read()\n",
    "\n",
    "print(data.decode(\"utf-8\"))"
   ]
  },
  {
   "cell_type": "code",
   "execution_count": 3,
   "id": "ccf9549a",
   "metadata": {},
   "outputs": [
    {
     "name": "stdout",
     "output_type": "stream",
     "text": [
      "{\"get\":\"fixtures\",\"parameters\":{\"league\":\"4\",\"season\":\"2016\",\"status\":\"pen\"},\"errors\":[],\"results\":3,\"paging\":{\"current\":1,\"total\":1},\"response\":[{\"fixture\":{\"id\":152569,\"referee\":\"Mark Clattenburg, England\",\"timezone\":\"UTC\",\"date\":\"2016-06-25T13:00:00+00:00\",\"timestamp\":1466859600,\"periods\":{\"first\":1466859600,\"second\":1466863200},\"venue\":{\"id\":null,\"name\":\"Stade Geoffroy-Guichard\",\"city\":\"Saint Etienne\"},\"status\":{\"long\":\"Match Finished\",\"short\":\"PEN\",\"elapsed\":120}},\"league\":{\"id\":4,\"name\":\"Euro Championship\",\"country\":\"World\",\"logo\":\"https:\\/\\/media.api-sports.io\\/football\\/leagues\\/4.png\",\"flag\":null,\"season\":2016,\"round\":\"8th Finals\"},\"teams\":{\"home\":{\"id\":15,\"name\":\"Switzerland\",\"logo\":\"https:\\/\\/media.api-sports.io\\/football\\/teams\\/15.png\",\"winner\":false},\"away\":{\"id\":24,\"name\":\"Poland\",\"logo\":\"https:\\/\\/media.api-sports.io\\/football\\/teams\\/24.png\",\"winner\":true}},\"goals\":{\"home\":2,\"away\":2},\"score\":{\"halftime\":{\"home\":0,\"away\":1},\"fulltime\":{\"home\":1,\"away\":1},\"extratime\":{\"home\":1,\"away\":1},\"penalty\":{\"home\":4,\"away\":5}}},{\"fixture\":{\"id\":152577,\"referee\":\"Felix Brych, Germany\",\"timezone\":\"UTC\",\"date\":\"2016-06-30T19:00:00+00:00\",\"timestamp\":1467313200,\"periods\":{\"first\":1467313200,\"second\":1467316800},\"venue\":{\"id\":null,\"name\":\"Orange V\\u00e9lodrome\",\"city\":\"Marseille\"},\"status\":{\"long\":\"Match Finished\",\"short\":\"PEN\",\"elapsed\":120}},\"league\":{\"id\":4,\"name\":\"Euro Championship\",\"country\":\"World\",\"logo\":\"https:\\/\\/media.api-sports.io\\/football\\/leagues\\/4.png\",\"flag\":null,\"season\":2016,\"round\":\"Quarter-finals\"},\"teams\":{\"home\":{\"id\":24,\"name\":\"Poland\",\"logo\":\"https:\\/\\/media.api-sports.io\\/football\\/teams\\/24.png\",\"winner\":false},\"away\":{\"id\":27,\"name\":\"Portugal\",\"logo\":\"https:\\/\\/media.api-sports.io\\/football\\/teams\\/27.png\",\"winner\":true}},\"goals\":{\"home\":2,\"away\":2},\"score\":{\"halftime\":{\"home\":1,\"away\":1},\"fulltime\":{\"home\":1,\"away\":1},\"extratime\":{\"home\":1,\"away\":1},\"penalty\":{\"home\":3,\"away\":5}}},{\"fixture\":{\"id\":152579,\"referee\":\"Viktor Kassai, Hungary\",\"timezone\":\"UTC\",\"date\":\"2016-07-02T19:00:00+00:00\",\"timestamp\":1467486000,\"periods\":{\"first\":1467486000,\"second\":1467489600},\"venue\":{\"id\":null,\"name\":\"Matmut Atlantique\",\"city\":\"Bordeaux\"},\"status\":{\"long\":\"Match Finished\",\"short\":\"PEN\",\"elapsed\":120}},\"league\":{\"id\":4,\"name\":\"Euro Championship\",\"country\":\"World\",\"logo\":\"https:\\/\\/media.api-sports.io\\/football\\/leagues\\/4.png\",\"flag\":null,\"season\":2016,\"round\":\"Quarter-finals\"},\"teams\":{\"home\":{\"id\":25,\"name\":\"Germany\",\"logo\":\"https:\\/\\/media.api-sports.io\\/football\\/teams\\/25.png\",\"winner\":true},\"away\":{\"id\":768,\"name\":\"Italy\",\"logo\":\"https:\\/\\/media.api-sports.io\\/football\\/teams\\/768.png\",\"winner\":false}},\"goals\":{\"home\":2,\"away\":2},\"score\":{\"halftime\":{\"home\":0,\"away\":0},\"fulltime\":{\"home\":1,\"away\":1},\"extratime\":{\"home\":1,\"away\":1},\"penalty\":{\"home\":6,\"away\":5}}}]}\n"
     ]
    }
   ],
   "source": [
    "conn.request(\"GET\", \"/fixtures?league=4&season=2016&status=pen\", headers=headers)\n",
    "res = conn.getresponse()\n",
    "data = res.read()\n",
    "\n",
    "print(data.decode(\"utf-8\"))"
   ]
  },
  {
   "cell_type": "code",
   "execution_count": 5,
   "id": "d0ab3cca-ff68-470a-84ee-5955f7175b99",
   "metadata": {},
   "outputs": [
    {
     "name": "stdout",
     "output_type": "stream",
     "text": [
      "{\"get\":\"fixtures\\/events\",\"parameters\":{\"fixture\":\"152569\"},\"errors\":[],\"results\":21,\"paging\":{\"current\":1,\"total\":1},\"response\":[{\"time\":{\"elapsed\":-1,\"extra\":null},\"team\":{\"id\":15,\"name\":\"Switzerland\",\"logo\":\"https:\\/\\/media.api-sports.io\\/football\\/teams\\/15.png\"},\"player\":{\"id\":2806,\"name\":\"Fabian Sch\\u00e4r\"},\"assist\":{\"id\":null,\"name\":null},\"type\":\"Goal\",\"detail\":\"Penalty\",\"comments\":null},{\"time\":{\"elapsed\":-1,\"extra\":null},\"team\":{\"id\":24,\"name\":\"Poland\",\"logo\":\"https:\\/\\/media.api-sports.io\\/football\\/teams\\/24.png\"},\"player\":{\"id\":521,\"name\":\"Robert Lewandowski\"},\"assist\":{\"id\":null,\"name\":null},\"type\":\"Goal\",\"detail\":\"Penalty\",\"comments\":null},{\"time\":{\"elapsed\":-1,\"extra\":null},\"team\":{\"id\":24,\"name\":\"Poland\",\"logo\":\"https:\\/\\/media.api-sports.io\\/football\\/teams\\/24.png\"},\"player\":{\"id\":333,\"name\":\"Arkadiusz Milik\"},\"assist\":{\"id\":null,\"name\":null},\"type\":\"Goal\",\"detail\":\"Penalty\",\"comments\":null},{\"time\":{\"elapsed\":-1,\"extra\":null},\"team\":{\"id\":24,\"name\":\"Poland\",\"logo\":\"https:\\/\\/media.api-sports.io\\/football\\/teams\\/24.png\"},\"player\":{\"id\":97,\"name\":\"Kamil Glik\"},\"assist\":{\"id\":null,\"name\":null},\"type\":\"Goal\",\"detail\":\"Penalty\",\"comments\":null},{\"time\":{\"elapsed\":-1,\"extra\":null},\"team\":{\"id\":24,\"name\":\"Poland\",\"logo\":\"https:\\/\\/media.api-sports.io\\/football\\/teams\\/24.png\"},\"player\":{\"id\":3006,\"name\":\"Jakub B\\u0142aszczykowski\"},\"assist\":{\"id\":null,\"name\":null},\"type\":\"Goal\",\"detail\":\"Penalty\",\"comments\":null},{\"time\":{\"elapsed\":-1,\"extra\":null},\"team\":{\"id\":24,\"name\":\"Poland\",\"logo\":\"https:\\/\\/media.api-sports.io\\/football\\/teams\\/24.png\"},\"player\":{\"id\":481,\"name\":\"Grzegorz Krychowiak\"},\"assist\":{\"id\":null,\"name\":null},\"type\":\"Goal\",\"detail\":\"Penalty\",\"comments\":null},{\"time\":{\"elapsed\":-1,\"extra\":null},\"team\":{\"id\":15,\"name\":\"Switzerland\",\"logo\":\"https:\\/\\/media.api-sports.io\\/football\\/teams\\/15.png\"},\"player\":{\"id\":1444,\"name\":\"Stephan Lichtsteiner\"},\"assist\":{\"id\":null,\"name\":null},\"type\":\"Goal\",\"detail\":\"Penalty\",\"comments\":null},{\"time\":{\"elapsed\":-1,\"extra\":null},\"team\":{\"id\":15,\"name\":\"Switzerland\",\"logo\":\"https:\\/\\/media.api-sports.io\\/football\\/teams\\/15.png\"},\"player\":{\"id\":1464,\"name\":\"Granit Xhaka\"},\"assist\":{\"id\":null,\"name\":null},\"type\":\"Goal\",\"detail\":\"Missed Penalty\",\"comments\":null},{\"time\":{\"elapsed\":-1,\"extra\":null},\"team\":{\"id\":15,\"name\":\"Switzerland\",\"logo\":\"https:\\/\\/media.api-sports.io\\/football\\/teams\\/15.png\"},\"player\":{\"id\":307,\"name\":\"Xherdan Shaqiri\"},\"assist\":{\"id\":null,\"name\":null},\"type\":\"Goal\",\"detail\":\"Penalty\",\"comments\":null},{\"time\":{\"elapsed\":-1,\"extra\":null},\"team\":{\"id\":15,\"name\":\"Switzerland\",\"logo\":\"https:\\/\\/media.api-sports.io\\/football\\/teams\\/15.png\"},\"player\":{\"id\":1631,\"name\":\"Ricardo Rodr\\u00edguez\"},\"assist\":{\"id\":null,\"name\":null},\"type\":\"Goal\",\"detail\":\"Penalty\",\"comments\":null},{\"time\":{\"elapsed\":39,\"extra\":null},\"team\":{\"id\":24,\"name\":\"Poland\",\"logo\":\"https:\\/\\/media.api-sports.io\\/football\\/teams\\/24.png\"},\"player\":{\"id\":3006,\"name\":\"Jakub B\\u0142aszczykowski\"},\"assist\":{\"id\":3012,\"name\":\"Kamil Grosicki\"},\"type\":\"Goal\",\"detail\":\"Normal Goal\",\"comments\":null},{\"time\":{\"elapsed\":55,\"extra\":null},\"team\":{\"id\":15,\"name\":\"Switzerland\",\"logo\":\"https:\\/\\/media.api-sports.io\\/football\\/teams\\/15.png\"},\"player\":{\"id\":2806,\"name\":\"Fabian Sch\\u00e4r\"},\"assist\":{\"id\":null,\"name\":null},\"type\":\"Card\",\"detail\":\"Yellow Card\",\"comments\":null},{\"time\":{\"elapsed\":58,\"extra\":null},\"team\":{\"id\":24,\"name\":\"Poland\",\"logo\":\"https:\\/\\/media.api-sports.io\\/football\\/teams\\/24.png\"},\"player\":{\"id\":3002,\"name\":\"Artur J\\u0119drzejczyk\"},\"assist\":{\"id\":null,\"name\":null},\"type\":\"Card\",\"detail\":\"Yellow Card\",\"comments\":null},{\"time\":{\"elapsed\":58,\"extra\":null},\"team\":{\"id\":15,\"name\":\"Switzerland\",\"logo\":\"https:\\/\\/media.api-sports.io\\/football\\/teams\\/15.png\"},\"player\":{\"id\":30478,\"name\":\"Blerim D\\u017eemaili\"},\"assist\":{\"id\":421,\"name\":\"Breel Embolo\"},\"type\":\"subst\",\"detail\":\"Substitution 1\",\"comments\":null},{\"time\":{\"elapsed\":70,\"extra\":null},\"team\":{\"id\":15,\"name\":\"Switzerland\",\"logo\":\"https:\\/\\/media.api-sports.io\\/football\\/teams\\/15.png\"},\"player\":{\"id\":2808,\"name\":\"Admir Mehmedi\"},\"assist\":{\"id\":457,\"name\":\"Eren Derdiyok\"},\"type\":\"subst\",\"detail\":\"Substitution 2\",\"comments\":null},{\"time\":{\"elapsed\":77,\"extra\":null},\"team\":{\"id\":15,\"name\":\"Switzerland\",\"logo\":\"https:\\/\\/media.api-sports.io\\/football\\/teams\\/15.png\"},\"player\":{\"id\":30805,\"name\":\"Valon Behrami\"},\"assist\":{\"id\":1816,\"name\":\"G\\u00e9lson Fernandes\"},\"type\":\"subst\",\"detail\":\"Substitution 3\",\"comments\":null},{\"time\":{\"elapsed\":82,\"extra\":null},\"team\":{\"id\":15,\"name\":\"Switzerland\",\"logo\":\"https:\\/\\/media.api-sports.io\\/football\\/teams\\/15.png\"},\"player\":{\"id\":307,\"name\":\"Xherdan Shaqiri\"},\"assist\":{\"id\":457,\"name\":\"Eren Derdiyok\"},\"type\":\"Goal\",\"detail\":\"Normal Goal\",\"comments\":null},{\"time\":{\"elapsed\":101,\"extra\":null},\"team\":{\"id\":24,\"name\":\"Poland\",\"logo\":\"https:\\/\\/media.api-sports.io\\/football\\/teams\\/24.png\"},\"player\":{\"id\":40344,\"name\":\"Krzysztof M\\u0105czy\\u0144ski\"},\"assist\":{\"id\":40425,\"name\":\"Tomasz Jod\\u0142owiec\"},\"type\":\"subst\",\"detail\":\"Substitution 1\",\"comments\":null},{\"time\":{\"elapsed\":104,\"extra\":null},\"team\":{\"id\":24,\"name\":\"Poland\",\"logo\":\"https:\\/\\/media.api-sports.io\\/football\\/teams\\/24.png\"},\"player\":{\"id\":3012,\"name\":\"Kamil Grosicki\"},\"assist\":{\"id\":40181,\"name\":\"S\\u0142awomir Peszko\"},\"type\":\"subst\",\"detail\":\"Substitution 2\",\"comments\":null},{\"time\":{\"elapsed\":111,\"extra\":null},\"team\":{\"id\":24,\"name\":\"Poland\",\"logo\":\"https:\\/\\/media.api-sports.io\\/football\\/teams\\/24.png\"},\"player\":{\"id\":3004,\"name\":\"Micha\\u0142 Pazdan\"},\"assist\":{\"id\":null,\"name\":null},\"type\":\"Card\",\"detail\":\"Yellow Card\",\"comments\":null},{\"time\":{\"elapsed\":117,\"extra\":null},\"team\":{\"id\":15,\"name\":\"Switzerland\",\"logo\":\"https:\\/\\/media.api-sports.io\\/football\\/teams\\/15.png\"},\"player\":{\"id\":91303,\"name\":\"Johan Djourou\"},\"assist\":{\"id\":null,\"name\":null},\"type\":\"Card\",\"detail\":\"Yellow Card\",\"comments\":null}]}\n"
     ]
    }
   ],
   "source": [
    "conn.request(\"GET\", \"/fixtures/events?fixture=152577\", headers=headers)\n",
    "\n",
    "res = conn.getresponse()\n",
    "data = res.read()\n",
    "\n",
    "print(data.decode(\"utf-8\"))"
   ]
  },
  {
   "cell_type": "code",
   "execution_count": 14,
   "id": "229318c5-3d24-4644-87e3-a938b2912c44",
   "metadata": {},
   "outputs": [
    {
     "data": {
      "text/plain": [
       "'[{\"time\":{\"elapsed\":-1,\"extra\":null},\"team\":{\"id\":15,\"name\":\"Switzerland\",\"logo\":\"https:\\\\/\\\\/media.api-sports.io\\\\/football\\\\/teams\\\\/15.png\"},\"player\":{\"id\":2806,\"name\":\"Fabian Sch\\\\u00e4r\"},\"assist\":{\"id\":null,\"name\":null},\"type\":\"Goal\",\"detail\":\"Penalty\",\"comments\":null},{\"time\":{\"elapsed\":-1,\"extra\":null},\"team\":{\"id\":24,\"name\":\"Poland\",\"logo\":\"https:\\\\/\\\\/media.api-sports.io\\\\/football\\\\/teams\\\\/24.png\"},\"player\":{\"id\":521,\"name\":\"Robert Lewandowski\"},\"assist\":{\"id\":null,\"name\":null},\"type\":\"Goal\",\"detail\":\"Penalty\",\"comments\":null},{\"time\":{\"elapsed\":-1,\"extra\":null},\"team\":{\"id\":24,\"name\":\"Poland\",\"logo\":\"https:\\\\/\\\\/media.api-sports.io\\\\/football\\\\/teams\\\\/24.png\"},\"player\":{\"id\":333,\"name\":\"Arkadiusz Milik\"},\"assist\":{\"id\":null,\"name\":null},\"type\":\"Goal\",\"detail\":\"Penalty\",\"comments\":null},{\"time\":{\"elapsed\":-1,\"extra\":null},\"team\":{\"id\":24,\"name\":\"Poland\",\"logo\":\"https:\\\\/\\\\/media.api-sports.io\\\\/football\\\\/teams\\\\/24.png\"},\"player\":{\"id\":97,\"name\":\"Kamil Glik\"},\"assist\":{\"id\":null,\"name\":null},\"type\":\"Goal\",\"detail\":\"Penalty\",\"comments\":null},{\"time\":{\"elapsed\":-1,\"extra\":null},\"team\":{\"id\":24,\"name\":\"Poland\",\"logo\":\"https:\\\\/\\\\/media.api-sports.io\\\\/football\\\\/teams\\\\/24.png\"},\"player\":{\"id\":3006,\"name\":\"Jakub B\\\\u0142aszczykowski\"},\"assist\":{\"id\":null,\"name\":null},\"type\":\"Goal\",\"detail\":\"Penalty\",\"comments\":null},{\"time\":{\"elapsed\":-1,\"extra\":null},\"team\":{\"id\":24,\"name\":\"Poland\",\"logo\":\"https:\\\\/\\\\/media.api-sports.io\\\\/football\\\\/teams\\\\/24.png\"},\"player\":{\"id\":481,\"name\":\"Grzegorz Krychowiak\"},\"assist\":{\"id\":null,\"name\":null},\"type\":\"Goal\",\"detail\":\"Penalty\",\"comments\":null},{\"time\":{\"elapsed\":-1,\"extra\":null},\"team\":{\"id\":15,\"name\":\"Switzerland\",\"logo\":\"https:\\\\/\\\\/media.api-sports.io\\\\/football\\\\/teams\\\\/15.png\"},\"player\":{\"id\":1444,\"name\":\"Stephan Lichtsteiner\"},\"assist\":{\"id\":null,\"name\":null},\"type\":\"Goal\",\"detail\":\"Penalty\",\"comments\":null},{\"time\":{\"elapsed\":-1,\"extra\":null},\"team\":{\"id\":15,\"name\":\"Switzerland\",\"logo\":\"https:\\\\/\\\\/media.api-sports.io\\\\/football\\\\/teams\\\\/15.png\"},\"player\":{\"id\":1464,\"name\":\"Granit Xhaka\"},\"assist\":{\"id\":null,\"name\":null},\"type\":\"Goal\",\"detail\":\"Missed Penalty\",\"comments\":null},{\"time\":{\"elapsed\":-1,\"extra\":null},\"team\":{\"id\":15,\"name\":\"Switzerland\",\"logo\":\"https:\\\\/\\\\/media.api-sports.io\\\\/football\\\\/teams\\\\/15.png\"},\"player\":{\"id\":307,\"name\":\"Xherdan Shaqiri\"},\"assist\":{\"id\":null,\"name\":null},\"type\":\"Goal\",\"detail\":\"Penalty\",\"comments\":null},{\"time\":{\"elapsed\":-1,\"extra\":null},\"team\":{\"id\":15,\"name\":\"Switzerland\",\"logo\":\"https:\\\\/\\\\/media.api-sports.io\\\\/football\\\\/teams\\\\/15.png\"},\"player\":{\"id\":1631,\"name\":\"Ricardo Rodr\\\\u00edguez\"},\"assist\":{\"id\":null,\"name\":null},\"type\":\"Goal\",\"detail\":\"Penalty\",\"comments\":null},{\"time\":{\"elapsed\":39,\"extra\":null},\"team\":{\"id\":24,\"name\":\"Poland\",\"logo\":\"https:\\\\/\\\\/media.api-sports.io\\\\/football\\\\/teams\\\\/24.png\"},\"player\":{\"id\":3006,\"name\":\"Jakub B\\\\u0142aszczykowski\"},\"assist\":{\"id\":3012,\"name\":\"Kamil Grosicki\"},\"type\":\"Goal\",\"detail\":\"Normal Goal\",\"comments\":null},{\"time\":{\"elapsed\":55,\"extra\":null},\"team\":{\"id\":15,\"name\":\"Switzerland\",\"logo\":\"https:\\\\/\\\\/media.api-sports.io\\\\/football\\\\/teams\\\\/15.png\"},\"player\":{\"id\":2806,\"name\":\"Fabian Sch\\\\u00e4r\"},\"assist\":{\"id\":null,\"name\":null},\"type\":\"Card\",\"detail\":\"Yellow Card\",\"comments\":null},{\"time\":{\"elapsed\":58,\"extra\":null},\"team\":{\"id\":24,\"name\":\"Poland\",\"logo\":\"https:\\\\/\\\\/media.api-sports.io\\\\/football\\\\/teams\\\\/24.png\"},\"player\":{\"id\":3002,\"name\":\"Artur J\\\\u0119drzejczyk\"},\"assist\":{\"id\":null,\"name\":null},\"type\":\"Card\",\"detail\":\"Yellow Card\",\"comments\":null},{\"time\":{\"elapsed\":58,\"extra\":null},\"team\":{\"id\":15,\"name\":\"Switzerland\",\"logo\":\"https:\\\\/\\\\/media.api-sports.io\\\\/football\\\\/teams\\\\/15.png\"},\"player\":{\"id\":30478,\"name\":\"Blerim D\\\\u017eemaili\"},\"assist\":{\"id\":421,\"name\":\"Breel Embolo\"},\"type\":\"subst\",\"detail\":\"Substitution 1\",\"comments\":null},{\"time\":{\"elapsed\":70,\"extra\":null},\"team\":{\"id\":15,\"name\":\"Switzerland\",\"logo\":\"https:\\\\/\\\\/media.api-sports.io\\\\/football\\\\/teams\\\\/15.png\"},\"player\":{\"id\":2808,\"name\":\"Admir Mehmedi\"},\"assist\":{\"id\":457,\"name\":\"Eren Derdiyok\"},\"type\":\"subst\",\"detail\":\"Substitution 2\",\"comments\":null},{\"time\":{\"elapsed\":77,\"extra\":null},\"team\":{\"id\":15,\"name\":\"Switzerland\",\"logo\":\"https:\\\\/\\\\/media.api-sports.io\\\\/football\\\\/teams\\\\/15.png\"},\"player\":{\"id\":30805,\"name\":\"Valon Behrami\"},\"assist\":{\"id\":1816,\"name\":\"G\\\\u00e9lson Fernandes\"},\"type\":\"subst\",\"detail\":\"Substitution 3\",\"comments\":null},{\"time\":{\"elapsed\":82,\"extra\":null},\"team\":{\"id\":15,\"name\":\"Switzerland\",\"logo\":\"https:\\\\/\\\\/media.api-sports.io\\\\/football\\\\/teams\\\\/15.png\"},\"player\":{\"id\":307,\"name\":\"Xherdan Shaqiri\"},\"assist\":{\"id\":457,\"name\":\"Eren Derdiyok\"},\"type\":\"Goal\",\"detail\":\"Normal Goal\",\"comments\":null},{\"time\":{\"elapsed\":101,\"extra\":null},\"team\":{\"id\":24,\"name\":\"Poland\",\"logo\":\"https:\\\\/\\\\/media.api-sports.io\\\\/football\\\\/teams\\\\/24.png\"},\"player\":{\"id\":40344,\"name\":\"Krzysztof M\\\\u0105czy\\\\u0144ski\"},\"assist\":{\"id\":40425,\"name\":\"Tomasz Jod\\\\u0142owiec\"},\"type\":\"subst\",\"detail\":\"Substitution 1\",\"comments\":null},{\"time\":{\"elapsed\":104,\"extra\":null},\"team\":{\"id\":24,\"name\":\"Poland\",\"logo\":\"https:\\\\/\\\\/media.api-sports.io\\\\/football\\\\/teams\\\\/24.png\"},\"player\":{\"id\":3012,\"name\":\"Kamil Grosicki\"},\"assist\":{\"id\":40181,\"name\":\"S\\\\u0142awomir Peszko\"},\"type\":\"subst\",\"detail\":\"Substitution 2\",\"comments\":null},{\"time\":{\"elapsed\":111,\"extra\":null},\"team\":{\"id\":24,\"name\":\"Poland\",\"logo\":\"https:\\\\/\\\\/media.api-sports.io\\\\/football\\\\/teams\\\\/24.png\"},\"player\":{\"id\":3004,\"name\":\"Micha\\\\u0142 Pazdan\"},\"assist\":{\"id\":null,\"name\":null},\"type\":\"Card\",\"detail\":\"Yellow Card\",\"comments\":null},{\"time\":{\"elapsed\":117,\"extra\":null},\"team\":{\"id\":15,\"name\":\"Switzerland\",\"logo\":\"https:\\\\/\\\\/media.api-sports.io\\\\/football\\\\/teams\\\\/15.png\"},\"player\":{\"id\":91303,\"name\":\"Johan Djourou\"},\"assist\":{\"id\":null,\"name\":null},\"type\":\"Card\",\"detail\":\"Yellow Card\",\"comments\":null}]'"
      ]
     },
     "execution_count": 14,
     "metadata": {},
     "output_type": "execute_result"
    }
   ],
   "source": [
    "interest = re.findall(r'\"response\":(\\[.*\\])\\}$', data.decode(\"utf-8\"))[0]\n",
    "pd.read_json(interest)"
   ]
  }
 ],
 "metadata": {
  "kernelspec": {
   "display_name": "Python 3 (ipykernel)",
   "language": "python",
   "name": "python3"
  },
  "language_info": {
   "codemirror_mode": {
    "name": "ipython",
    "version": 3
   },
   "file_extension": ".py",
   "mimetype": "text/x-python",
   "name": "python",
   "nbconvert_exporter": "python",
   "pygments_lexer": "ipython3",
   "version": "3.9.7"
  }
 },
 "nbformat": 4,
 "nbformat_minor": 5
}
